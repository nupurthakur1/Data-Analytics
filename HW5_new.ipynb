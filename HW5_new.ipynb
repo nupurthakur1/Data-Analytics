{
 "cells": [
  {
   "cell_type": "code",
   "execution_count": 1,
   "metadata": {},
   "outputs": [
    {
     "name": "stderr",
     "output_type": "stream",
     "text": [
      "C:\\Users\\asmit\\anaconda3\\lib\\site-packages\\tensorflow\\python\\framework\\dtypes.py:516: FutureWarning: Passing (type, 1) or '1type' as a synonym of type is deprecated; in a future version of numpy, it will be understood as (type, (1,)) / '(1,)type'.\n",
      "  _np_qint8 = np.dtype([(\"qint8\", np.int8, 1)])\n",
      "C:\\Users\\asmit\\anaconda3\\lib\\site-packages\\tensorflow\\python\\framework\\dtypes.py:517: FutureWarning: Passing (type, 1) or '1type' as a synonym of type is deprecated; in a future version of numpy, it will be understood as (type, (1,)) / '(1,)type'.\n",
      "  _np_quint8 = np.dtype([(\"quint8\", np.uint8, 1)])\n",
      "C:\\Users\\asmit\\anaconda3\\lib\\site-packages\\tensorflow\\python\\framework\\dtypes.py:518: FutureWarning: Passing (type, 1) or '1type' as a synonym of type is deprecated; in a future version of numpy, it will be understood as (type, (1,)) / '(1,)type'.\n",
      "  _np_qint16 = np.dtype([(\"qint16\", np.int16, 1)])\n",
      "C:\\Users\\asmit\\anaconda3\\lib\\site-packages\\tensorflow\\python\\framework\\dtypes.py:519: FutureWarning: Passing (type, 1) or '1type' as a synonym of type is deprecated; in a future version of numpy, it will be understood as (type, (1,)) / '(1,)type'.\n",
      "  _np_quint16 = np.dtype([(\"quint16\", np.uint16, 1)])\n",
      "C:\\Users\\asmit\\anaconda3\\lib\\site-packages\\tensorflow\\python\\framework\\dtypes.py:520: FutureWarning: Passing (type, 1) or '1type' as a synonym of type is deprecated; in a future version of numpy, it will be understood as (type, (1,)) / '(1,)type'.\n",
      "  _np_qint32 = np.dtype([(\"qint32\", np.int32, 1)])\n",
      "C:\\Users\\asmit\\anaconda3\\lib\\site-packages\\tensorflow\\python\\framework\\dtypes.py:525: FutureWarning: Passing (type, 1) or '1type' as a synonym of type is deprecated; in a future version of numpy, it will be understood as (type, (1,)) / '(1,)type'.\n",
      "  np_resource = np.dtype([(\"resource\", np.ubyte, 1)])\n",
      "C:\\Users\\asmit\\anaconda3\\lib\\site-packages\\tensorboard\\compat\\tensorflow_stub\\dtypes.py:541: FutureWarning: Passing (type, 1) or '1type' as a synonym of type is deprecated; in a future version of numpy, it will be understood as (type, (1,)) / '(1,)type'.\n",
      "  _np_qint8 = np.dtype([(\"qint8\", np.int8, 1)])\n",
      "C:\\Users\\asmit\\anaconda3\\lib\\site-packages\\tensorboard\\compat\\tensorflow_stub\\dtypes.py:542: FutureWarning: Passing (type, 1) or '1type' as a synonym of type is deprecated; in a future version of numpy, it will be understood as (type, (1,)) / '(1,)type'.\n",
      "  _np_quint8 = np.dtype([(\"quint8\", np.uint8, 1)])\n",
      "C:\\Users\\asmit\\anaconda3\\lib\\site-packages\\tensorboard\\compat\\tensorflow_stub\\dtypes.py:543: FutureWarning: Passing (type, 1) or '1type' as a synonym of type is deprecated; in a future version of numpy, it will be understood as (type, (1,)) / '(1,)type'.\n",
      "  _np_qint16 = np.dtype([(\"qint16\", np.int16, 1)])\n",
      "C:\\Users\\asmit\\anaconda3\\lib\\site-packages\\tensorboard\\compat\\tensorflow_stub\\dtypes.py:544: FutureWarning: Passing (type, 1) or '1type' as a synonym of type is deprecated; in a future version of numpy, it will be understood as (type, (1,)) / '(1,)type'.\n",
      "  _np_quint16 = np.dtype([(\"quint16\", np.uint16, 1)])\n",
      "C:\\Users\\asmit\\anaconda3\\lib\\site-packages\\tensorboard\\compat\\tensorflow_stub\\dtypes.py:545: FutureWarning: Passing (type, 1) or '1type' as a synonym of type is deprecated; in a future version of numpy, it will be understood as (type, (1,)) / '(1,)type'.\n",
      "  _np_qint32 = np.dtype([(\"qint32\", np.int32, 1)])\n",
      "C:\\Users\\asmit\\anaconda3\\lib\\site-packages\\tensorboard\\compat\\tensorflow_stub\\dtypes.py:550: FutureWarning: Passing (type, 1) or '1type' as a synonym of type is deprecated; in a future version of numpy, it will be understood as (type, (1,)) / '(1,)type'.\n",
      "  np_resource = np.dtype([(\"resource\", np.ubyte, 1)])\n"
     ]
    }
   ],
   "source": [
    "import numpy as np\n",
    "import pandas as pd\n",
    "# import tensorflow as tf\n",
    "import matplotlib.pyplot as plt\n",
    "%matplotlib inline\n",
    "import seaborn as sns\n",
    "\n",
    "from matplotlib import pyplot\n",
    "from sklearn.preprocessing import MinMaxScaler\n",
    "from tensorflow.keras.models import Sequential\n",
    "from tensorflow.compat.v1.keras.layers import Dense,CuDNNLSTM, LSTM\n",
    "import math \n",
    "from sklearn.metrics import mean_squared_error"
   ]
  },
  {
   "cell_type": "code",
   "execution_count": 58,
   "metadata": {},
   "outputs": [
    {
     "data": {
      "text/html": [
       "<div>\n",
       "<style scoped>\n",
       "    .dataframe tbody tr th:only-of-type {\n",
       "        vertical-align: middle;\n",
       "    }\n",
       "\n",
       "    .dataframe tbody tr th {\n",
       "        vertical-align: top;\n",
       "    }\n",
       "\n",
       "    .dataframe thead th {\n",
       "        text-align: right;\n",
       "    }\n",
       "</style>\n",
       "<table border=\"1\" class=\"dataframe\">\n",
       "  <thead>\n",
       "    <tr style=\"text-align: right;\">\n",
       "      <th></th>\n",
       "      <th>Passengers</th>\n",
       "    </tr>\n",
       "  </thead>\n",
       "  <tbody>\n",
       "    <tr>\n",
       "      <th>0</th>\n",
       "      <td>112</td>\n",
       "    </tr>\n",
       "    <tr>\n",
       "      <th>1</th>\n",
       "      <td>118</td>\n",
       "    </tr>\n",
       "    <tr>\n",
       "      <th>2</th>\n",
       "      <td>132</td>\n",
       "    </tr>\n",
       "    <tr>\n",
       "      <th>3</th>\n",
       "      <td>129</td>\n",
       "    </tr>\n",
       "    <tr>\n",
       "      <th>4</th>\n",
       "      <td>121</td>\n",
       "    </tr>\n",
       "  </tbody>\n",
       "</table>\n",
       "</div>"
      ],
      "text/plain": [
       "   Passengers\n",
       "0         112\n",
       "1         118\n",
       "2         132\n",
       "3         129\n",
       "4         121"
      ]
     },
     "execution_count": 58,
     "metadata": {},
     "output_type": "execute_result"
    }
   ],
   "source": [
    "data = pd.read_csv('airline-passengers.csv', parse_dates=True, squeeze=True)\n",
    "# data 144 rows\n",
    "df = data.drop('Month', axis =1)\n",
    "df.head()"
   ]
  },
  {
   "cell_type": "code",
   "execution_count": 59,
   "metadata": {},
   "outputs": [],
   "source": [
    "data.set_index('Month', inplace=True)"
   ]
  },
  {
   "cell_type": "markdown",
   "metadata": {},
   "source": [
    "# a) Plot time-series data"
   ]
  },
  {
   "cell_type": "code",
   "execution_count": 61,
   "metadata": {},
   "outputs": [
    {
     "data": {
      "text/plain": [
       "[<matplotlib.lines.Line2D at 0x1c9334fc508>]"
      ]
     },
     "execution_count": 61,
     "metadata": {},
     "output_type": "execute_result"
    },
    {
     "data": {
      "image/png": "[encoded data removed]",
      "text/plain": [
       "<Figure size 432x288 with 1 Axes>"
      ]
     },
     "metadata": {
      "needs_background": "light"
     },
     "output_type": "display_data"
    }
   ],
   "source": [
    "plt.title('Time series Data')\n",
    "plt.ylabel('No. of Passengers')\n",
    "plt.xlabel('Months')\n",
    "plt.grid(True)\n",
    "plt.autoscale(axis='x',tight=True)\n",
    "plt.plot(data['Passengers'])"
   ]
  },
  {
   "cell_type": "markdown",
   "metadata": {},
   "source": [
    "# b) Short-term : We can say that for short term in every 3 months the number of passengers decrease for 2 months and\n",
    "#                 then again increase for next 3 months. \n",
    "#    Long term : Number of passengers increases with time."
   ]
  },
  {
   "cell_type": "markdown",
   "metadata": {},
   "source": [
    "# c) LSTM Network"
   ]
  },
  {
   "cell_type": "code",
   "execution_count": 5,
   "metadata": {},
   "outputs": [],
   "source": [
    "# random number seed = 0\n",
    "np.random.seed(0)\n",
    "\n",
    "# convert integer to floating point values\n",
    "data = df.values.astype('float64')\n",
    "# data"
   ]
  },
  {
   "cell_type": "code",
   "execution_count": 6,
   "metadata": {},
   "outputs": [
    {
     "data": {
      "text/plain": [
       "(144, 1)"
      ]
     },
     "execution_count": 6,
     "metadata": {},
     "output_type": "execute_result"
    }
   ],
   "source": [
    "#normalise the data to range (0,1)\n",
    "scaler=MinMaxScaler()\n",
    "scaled_data=scaler.fit_transform(data)\n",
    "scaled_data.shape"
   ]
  },
  {
   "cell_type": "code",
   "execution_count": 7,
   "metadata": {},
   "outputs": [
    {
     "name": "stdout",
     "output_type": "stream",
     "text": [
      "(96, 1) (48, 1)\n"
     ]
    }
   ],
   "source": [
    "# splitting first 67% of the data as train data and 33% as test data\n",
    "\n",
    "train_data, test_data= np.split(scaled_data, [int(.67 *len(scaled_data))])\n",
    "print(train_data.shape, test_data.shape)"
   ]
  },
  {
   "cell_type": "code",
   "execution_count": 8,
   "metadata": {},
   "outputs": [],
   "source": [
    "# preparing dataset to be used in LSTM\n",
    "\n",
    "def create_lstm_dataset(dataset, time_step=1):\n",
    "    dataX, dataY = [], []\n",
    "    for i in range(len(dataset)-time_step-1):\n",
    "        a = dataset[i:(i+time_step), 0]   ###i=0, 0,1\n",
    "        dataX.append(a)\n",
    "        dataY.append(dataset[i + time_step, 0])\n",
    "    return np.array(dataX), np.array(dataY)"
   ]
  },
  {
   "cell_type": "code",
   "execution_count": 9,
   "metadata": {},
   "outputs": [
    {
     "name": "stdout",
     "output_type": "stream",
     "text": [
      "(94, 1) (94,)\n",
      "(46, 1) (46,)\n"
     ]
    }
   ],
   "source": [
    "# reshape into X=t and Y=t+1\n",
    "time_step = 1\n",
    "x_train, y_train = create_lstm_dataset(train_data, time_step)\n",
    "x_test, y_test = create_lstm_dataset(test_data, time_step)\n",
    "\n",
    "print(x_train.shape, y_train.shape)\n",
    "print(x_test.shape, y_test.shape)"
   ]
  },
  {
   "cell_type": "code",
   "execution_count": 10,
   "metadata": {},
   "outputs": [
    {
     "name": "stdout",
     "output_type": "stream",
     "text": [
      "(94, 1)\n"
     ]
    }
   ],
   "source": [
    "print(x_train.shape)"
   ]
  },
  {
   "cell_type": "code",
   "execution_count": 11,
   "metadata": {},
   "outputs": [
    {
     "name": "stdout",
     "output_type": "stream",
     "text": [
      "(94, 1, 1) (46, 1, 1)\n"
     ]
    }
   ],
   "source": [
    "# Reshape the input data to be in the [samples, time steps, features] \n",
    "x_train = np.reshape(x_train, (x_train.shape[0], 1, x_train.shape[1]))\n",
    "x_test = np.reshape(x_test, (x_test.shape[0], 1, x_test.shape[1]))\n",
    "\n",
    "print(x_train.shape, x_test.shape)"
   ]
  },
  {
   "cell_type": "code",
   "execution_count": 15,
   "metadata": {},
   "outputs": [
    {
     "name": "stdout",
     "output_type": "stream",
     "text": [
      "Model: \"sequential_1\"\n",
      "_________________________________________________________________\n",
      "Layer (type)                 Output Shape              Param #   \n",
      "=================================================================\n",
      "lstm_2 (LSTM)                (None, 1, 50)             10400     \n",
      "_________________________________________________________________\n",
      "lstm_3 (LSTM)                (None, 4)                 880       \n",
      "_________________________________________________________________\n",
      "dense (Dense)                (None, 1)                 5         \n",
      "=================================================================\n",
      "Total params: 11,285\n",
      "Trainable params: 11,285\n",
      "Non-trainable params: 0\n",
      "_________________________________________________________________\n"
     ]
    }
   ],
   "source": [
    "# LSTM Network\n",
    "lstm_model = Sequential()\n",
    "lstm_model.add(LSTM(50,return_sequences=True,input_shape=(1,1)))\n",
    "lstm_model.add(LSTM(4))\n",
    "lstm_model.add(Dense(1))\n",
    "lstm_model.summary()"
   ]
  },
  {
   "cell_type": "code",
   "execution_count": 17,
   "metadata": {},
   "outputs": [
    {
     "name": "stdout",
     "output_type": "stream",
     "text": [
      "WARNING:tensorflow:From C:\\Users\\asmit\\anaconda3\\lib\\site-packages\\tensorflow\\python\\ops\\math_grad.py:1250: add_dispatch_support.<locals>.wrapper (from tensorflow.python.ops.array_ops) is deprecated and will be removed in a future version.\n",
      "Instructions for updating:\n",
      "Use tf.where in 2.0, which has the same broadcast rule as np.where\n",
      "Epoch 1/100\n",
      "94/94 - 1s - loss: 0.0365\n",
      "Epoch 2/100\n",
      "94/94 - 0s - loss: 0.0149\n",
      "Epoch 3/100\n",
      "94/94 - 0s - loss: 0.0127\n",
      "Epoch 4/100\n",
      "94/94 - 0s - loss: 0.0104\n",
      "Epoch 5/100\n",
      "94/94 - 0s - loss: 0.0081\n",
      "Epoch 6/100\n",
      "94/94 - 0s - loss: 0.0056\n",
      "Epoch 7/100\n",
      "94/94 - 0s - loss: 0.0038\n",
      "Epoch 8/100\n",
      "94/94 - 0s - loss: 0.0027\n",
      "Epoch 9/100\n",
      "94/94 - 0s - loss: 0.0024\n",
      "Epoch 10/100\n",
      "94/94 - 0s - loss: 0.0024\n",
      "Epoch 11/100\n",
      "94/94 - 0s - loss: 0.0023\n",
      "Epoch 12/100\n",
      "94/94 - 0s - loss: 0.0022\n",
      "Epoch 13/100\n",
      "94/94 - 0s - loss: 0.0022\n",
      "Epoch 14/100\n",
      "94/94 - 0s - loss: 0.0024\n",
      "Epoch 15/100\n",
      "94/94 - 0s - loss: 0.0022\n",
      "Epoch 16/100\n",
      "94/94 - 0s - loss: 0.0022\n",
      "Epoch 17/100\n",
      "94/94 - 0s - loss: 0.0023\n",
      "Epoch 18/100\n",
      "94/94 - 0s - loss: 0.0025\n",
      "Epoch 19/100\n",
      "94/94 - 0s - loss: 0.0021\n",
      "Epoch 20/100\n",
      "94/94 - 0s - loss: 0.0023\n",
      "Epoch 21/100\n",
      "94/94 - 0s - loss: 0.0022\n",
      "Epoch 22/100\n",
      "94/94 - 0s - loss: 0.0023\n",
      "Epoch 23/100\n",
      "94/94 - 0s - loss: 0.0021\n",
      "Epoch 24/100\n",
      "94/94 - 0s - loss: 0.0022\n",
      "Epoch 25/100\n",
      "94/94 - 0s - loss: 0.0022\n",
      "Epoch 26/100\n",
      "94/94 - 0s - loss: 0.0021\n",
      "Epoch 27/100\n",
      "94/94 - 0s - loss: 0.0022\n",
      "Epoch 28/100\n",
      "94/94 - 0s - loss: 0.0022\n",
      "Epoch 29/100\n",
      "94/94 - 0s - loss: 0.0023\n",
      "Epoch 30/100\n",
      "94/94 - 0s - loss: 0.0021\n",
      "Epoch 31/100\n",
      "94/94 - 0s - loss: 0.0021\n",
      "Epoch 32/100\n",
      "94/94 - 0s - loss: 0.0021\n",
      "Epoch 33/100\n",
      "94/94 - 0s - loss: 0.0024\n",
      "Epoch 34/100\n",
      "94/94 - 0s - loss: 0.0022\n",
      "Epoch 35/100\n",
      "94/94 - 0s - loss: 0.0021\n",
      "Epoch 36/100\n",
      "94/94 - 0s - loss: 0.0021\n",
      "Epoch 37/100\n",
      "94/94 - 0s - loss: 0.0022\n",
      "Epoch 38/100\n",
      "94/94 - 0s - loss: 0.0022\n",
      "Epoch 39/100\n",
      "94/94 - 0s - loss: 0.0022\n",
      "Epoch 40/100\n",
      "94/94 - 0s - loss: 0.0020\n",
      "Epoch 41/100\n",
      "94/94 - 0s - loss: 0.0022\n",
      "Epoch 42/100\n",
      "94/94 - 0s - loss: 0.0020\n",
      "Epoch 43/100\n",
      "94/94 - 0s - loss: 0.0022\n",
      "Epoch 44/100\n",
      "94/94 - 0s - loss: 0.0021\n",
      "Epoch 45/100\n",
      "94/94 - 0s - loss: 0.0021\n",
      "Epoch 46/100\n",
      "94/94 - 0s - loss: 0.0020\n",
      "Epoch 47/100\n",
      "94/94 - 0s - loss: 0.0022\n",
      "Epoch 48/100\n",
      "94/94 - 0s - loss: 0.0020\n",
      "Epoch 49/100\n",
      "94/94 - 0s - loss: 0.0022\n",
      "Epoch 50/100\n",
      "94/94 - 0s - loss: 0.0021\n",
      "Epoch 51/100\n",
      "94/94 - 0s - loss: 0.0021\n",
      "Epoch 52/100\n",
      "94/94 - 0s - loss: 0.0021\n",
      "Epoch 53/100\n",
      "94/94 - 0s - loss: 0.0020\n",
      "Epoch 54/100\n",
      "94/94 - 0s - loss: 0.0022\n",
      "Epoch 55/100\n",
      "94/94 - 0s - loss: 0.0021\n",
      "Epoch 56/100\n",
      "94/94 - 0s - loss: 0.0020\n",
      "Epoch 57/100\n",
      "94/94 - 0s - loss: 0.0022\n",
      "Epoch 58/100\n",
      "94/94 - 0s - loss: 0.0022\n",
      "Epoch 59/100\n",
      "94/94 - 0s - loss: 0.0020\n",
      "Epoch 60/100\n",
      "94/94 - 0s - loss: 0.0020\n",
      "Epoch 61/100\n",
      "94/94 - 0s - loss: 0.0021\n",
      "Epoch 62/100\n",
      "94/94 - 0s - loss: 0.0023\n",
      "Epoch 63/100\n",
      "94/94 - 0s - loss: 0.0021\n",
      "Epoch 64/100\n",
      "94/94 - 0s - loss: 0.0020\n",
      "Epoch 65/100\n",
      "94/94 - 0s - loss: 0.0021\n",
      "Epoch 66/100\n",
      "94/94 - 0s - loss: 0.0020\n",
      "Epoch 67/100\n",
      "94/94 - 0s - loss: 0.0021\n",
      "Epoch 68/100\n",
      "94/94 - 0s - loss: 0.0022\n",
      "Epoch 69/100\n",
      "94/94 - 0s - loss: 0.0021\n",
      "Epoch 70/100\n",
      "94/94 - 0s - loss: 0.0020\n",
      "Epoch 71/100\n",
      "94/94 - 0s - loss: 0.0021\n",
      "Epoch 72/100\n",
      "94/94 - 0s - loss: 0.0021\n",
      "Epoch 73/100\n",
      "94/94 - 0s - loss: 0.0022\n",
      "Epoch 74/100\n",
      "94/94 - 0s - loss: 0.0020\n",
      "Epoch 75/100\n",
      "94/94 - 0s - loss: 0.0021\n",
      "Epoch 76/100\n",
      "94/94 - 0s - loss: 0.0020\n",
      "Epoch 77/100\n",
      "94/94 - 0s - loss: 0.0024\n",
      "Epoch 78/100\n",
      "94/94 - 0s - loss: 0.0020\n",
      "Epoch 79/100\n",
      "94/94 - 0s - loss: 0.0020\n",
      "Epoch 80/100\n",
      "94/94 - 0s - loss: 0.0022\n",
      "Epoch 81/100\n",
      "94/94 - 0s - loss: 0.0021\n",
      "Epoch 82/100\n",
      "94/94 - 0s - loss: 0.0021\n",
      "Epoch 83/100\n",
      "94/94 - 0s - loss: 0.0021\n",
      "Epoch 84/100\n",
      "94/94 - 0s - loss: 0.0022\n",
      "Epoch 85/100\n",
      "94/94 - 0s - loss: 0.0020\n",
      "Epoch 86/100\n",
      "94/94 - 0s - loss: 0.0021\n",
      "Epoch 87/100\n",
      "94/94 - 0s - loss: 0.0020\n",
      "Epoch 88/100\n",
      "94/94 - 0s - loss: 0.0021\n",
      "Epoch 89/100\n",
      "94/94 - 0s - loss: 0.0022\n",
      "Epoch 90/100\n",
      "94/94 - 0s - loss: 0.0020\n",
      "Epoch 91/100\n",
      "94/94 - 0s - loss: 0.0023\n",
      "Epoch 92/100\n",
      "94/94 - 0s - loss: 0.0021\n",
      "Epoch 93/100\n",
      "94/94 - 0s - loss: 0.0021\n",
      "Epoch 94/100\n",
      "94/94 - 0s - loss: 0.0020\n",
      "Epoch 95/100\n",
      "94/94 - 0s - loss: 0.0021\n",
      "Epoch 96/100\n",
      "94/94 - 0s - loss: 0.0021\n",
      "Epoch 97/100\n",
      "94/94 - 0s - loss: 0.0021\n",
      "Epoch 98/100\n",
      "94/94 - 1s - loss: 0.0020\n",
      "Epoch 99/100\n",
      "94/94 - 0s - loss: 0.0020\n",
      "Epoch 100/100\n",
      "94/94 - 0s - loss: 0.0020\n"
     ]
    },
    {
     "data": {
      "text/plain": [
       "<tensorflow.python.keras.callbacks.History at 0x1c92afc7ec8>"
      ]
     },
     "execution_count": 17,
     "metadata": {},
     "output_type": "execute_result"
    }
   ],
   "source": [
    "lstm_model.compile(loss='mean_squared_error', optimizer='adam')\n",
    "lstm_model.fit(x_train, y_train, epochs=100, batch_size=1, verbose=2)"
   ]
  },
  {
   "cell_type": "code",
   "execution_count": 19,
   "metadata": {},
   "outputs": [],
   "source": [
    "# prediction\n",
    "x_train_pred = lstm_model.predict(x_train)\n",
    "x_test_pred = lstm_model.predict(x_test)"
   ]
  },
  {
   "cell_type": "code",
   "execution_count": null,
   "metadata": {},
   "outputs": [],
   "source": [
    "# print(x_test_pred)"
   ]
  },
  {
   "cell_type": "code",
   "execution_count": 20,
   "metadata": {},
   "outputs": [],
   "source": [
    "# invert predictions to original data\n",
    "\n",
    "x_train_inv = scaler.inverse_transform(x_train_pred)\n",
    "Y_train = scaler.inverse_transform([y_train])\n",
    "\n",
    "x_test_inv = scaler.inverse_transform(x_test_pred)\n",
    "Y_test = scaler.inverse_transform([y_test])"
   ]
  },
  {
   "cell_type": "code",
   "execution_count": 22,
   "metadata": {},
   "outputs": [
    {
     "name": "stdout",
     "output_type": "stream",
     "text": [
      "[[113.54551 ]\n",
      " [119.0423  ]\n",
      " [132.07674 ]\n",
      " [129.26064 ]\n",
      " [121.81162 ]\n",
      " [134.90453 ]\n",
      " [147.2814  ]\n",
      " [147.2814  ]\n",
      " [135.84962 ]\n",
      " [119.96389 ]\n",
      " [106.30837 ]\n",
      " [119.0423  ]\n",
      " [116.28678 ]\n",
      " [126.456665]\n",
      " [140.59322 ]\n",
      " [134.90453 ]\n",
      " [125.52478 ]\n",
      " [148.24103 ]\n",
      " [168.5928  ]\n",
      " [168.5928  ]\n",
      " [156.92    ]\n",
      " [133.01807 ]\n",
      " [115.37142 ]\n",
      " [139.64214 ]\n",
      " [144.40862 ]\n",
      " [149.20166 ]\n",
      " [176.42393 ]\n",
      " [161.77121 ]\n",
      " [170.54741 ]\n",
      " [176.42393 ]\n",
      " [197.08847 ]\n",
      " [197.08847 ]\n",
      " [182.31618 ]\n",
      " [160.79944 ]\n",
      " [145.36517 ]\n",
      " [164.69078 ]\n",
      " [169.56982 ]\n",
      " [178.38649 ]\n",
      " [191.17499 ]\n",
      " [179.36835 ]\n",
      " [181.33324 ]\n",
      " [215.80455 ]\n",
      " [227.57597 ]\n",
      " [239.27368 ]\n",
      " [206.94536 ]\n",
      " [189.20482 ]\n",
      " [170.54741 ]\n",
      " [192.16031 ]\n",
      " [194.1313  ]\n",
      " [194.1313  ]\n",
      " [233.43579 ]\n",
      " [232.4606  ]\n",
      " [226.59741 ]\n",
      " [240.2443  ]\n",
      " [260.43765 ]\n",
      " [268.01907 ]\n",
      " [234.41042 ]\n",
      " [208.91557 ]\n",
      " [178.38649 ]\n",
      " [199.06013 ]\n",
      " [202.0176  ]\n",
      " [186.25104 ]\n",
      " [232.4606  ]\n",
      " [224.63887 ]\n",
      " [231.48479 ]\n",
      " [260.43765 ]\n",
      " [295.76447 ]\n",
      " [287.56424 ]\n",
      " [255.66576 ]\n",
      " [226.59741 ]\n",
      " [201.0318  ]\n",
      " [226.59741 ]\n",
      " [239.27368 ]\n",
      " [230.50842 ]\n",
      " [263.2887  ]\n",
      " [265.18408 ]\n",
      " [266.1302  ]\n",
      " [307.4036  ]\n",
      " [348.8577  ]\n",
      " [334.92844 ]\n",
      " [304.73996 ]\n",
      " [269.90344 ]\n",
      " [234.41042 ]\n",
      " [273.65845 ]\n",
      " [279.25494 ]\n",
      " [272.72144 ]\n",
      " [309.17172 ]\n",
      " [305.62933 ]\n",
      " [310.05347 ]\n",
      " [356.81866 ]\n",
      " [386.2036  ]\n",
      " [380.3911  ]\n",
      " [341.54498 ]\n",
      " [299.37222 ]]\n",
      "[[118. 132. 129. 121. 135. 148. 148. 136. 119. 104. 118. 115. 126. 141.\n",
      "  135. 125. 149. 170. 170. 158. 133. 114. 140. 145. 150. 178. 163. 172.\n",
      "  178. 199. 199. 184. 162. 146. 166. 171. 180. 193. 181. 183. 218. 230.\n",
      "  242. 209. 191. 172. 194. 196. 196. 236. 235. 229. 243. 264. 272. 237.\n",
      "  211. 180. 201. 204. 188. 235. 227. 234. 264. 302. 293. 259. 229. 203.\n",
      "  229. 242. 233. 267. 269. 270. 315. 364. 347. 312. 274. 237. 278. 284.\n",
      "  277. 317. 313. 318. 374. 413. 405. 355. 306. 271.]]\n",
      "[[307.4036 ]\n",
      " [294.8589 ]\n",
      " [342.36438]\n",
      " [335.76144]\n",
      " [341.54498]\n",
      " [392.6116 ]\n",
      " [421.36923]\n",
      " [422.63455]\n",
      " [379.6568 ]\n",
      " [334.92844]\n",
      " [298.47244]\n",
      " [325.65472]\n",
      " [329.05032]\n",
      " [310.05347]\n",
      " [347.24472]\n",
      " [335.76144]\n",
      " [348.0521 ]\n",
      " [401.62573]\n",
      " [437.3452 ]\n",
      " [445.53766]\n",
      " [379.6568 ]\n",
      " [344.8123 ]\n",
      " [302.9567 ]\n",
      " [326.50613]\n",
      " [345.62482]\n",
      " [330.73816]\n",
      " [381.1237 ]\n",
      " [373.71985]\n",
      " [391.19952]\n",
      " [425.7709 ]\n",
      " [469.05536]\n",
      " [474.70322]\n",
      " [420.0976 ]\n",
      " [381.85458]\n",
      " [347.24472]\n",
      " [380.3911 ]\n",
      " [389.06866]\n",
      " [369.9528 ]\n",
      " [390.491  ]\n",
      " [418.8198 ]\n",
      " [425.7709 ]\n",
      " [462.1942 ]\n",
      " [504.5566 ]\n",
      " [497.34668]\n",
      " [447.2574 ]\n",
      " [418.8198 ]]\n",
      "[[301. 356. 348. 355. 422. 465. 467. 404. 347. 305. 336. 340. 318. 362.\n",
      "  348. 363. 435. 491. 505. 404. 359. 310. 337. 360. 342. 406. 396. 420.\n",
      "  472. 548. 559. 463. 407. 362. 405. 417. 391. 419. 461. 472. 535. 622.\n",
      "  606. 508. 461. 390.]]\n"
     ]
    }
   ],
   "source": [
    "# print(x_train_inv)\n",
    "# print(Y_train)\n",
    "# print(x_test_inv)\n",
    "# print(Y_test)"
   ]
  },
  {
   "cell_type": "code",
   "execution_count": 24,
   "metadata": {},
   "outputs": [
    {
     "name": "stdout",
     "output_type": "stream",
     "text": [
      "Train Score RMSE:  23.07\n",
      "Test Score RMSE:  57.73\n"
     ]
    }
   ],
   "source": [
    "# calculate root mean squared error = Actual value - Predicted value\n",
    "\n",
    "trainScore = math.sqrt(mean_squared_error(Y_train[0], x_train_inv[:,0]))\n",
    "print('Train Score RMSE: ', (round(trainScore, ndigits=2)))\n",
    "\n",
    "testScore = math.sqrt(mean_squared_error(Y_test[0], x_test_inv[:,0]))\n",
    "print('Test Score RMSE: ', (round(testScore, ndigits=2)))"
   ]
  },
  {
   "cell_type": "code",
   "execution_count": 25,
   "metadata": {},
   "outputs": [
    {
     "data": {
      "image/png": "[encoded data removed]",
      "text/plain": [
       "<Figure size 432x288 with 1 Axes>"
      ]
     },
     "metadata": {
      "needs_background": "light"
     },
     "output_type": "display_data"
    }
   ],
   "source": [
    "# shift train predictions for plotting\n",
    "look_back=1\n",
    "trainPredictPlot = np.empty_like(scaled_data)\n",
    "trainPredictPlot[:, :] = np.nan\n",
    "trainPredictPlot[look_back:len(x_train_inv)+look_back, :] = x_train_inv\n",
    "# shift test predictions for plotting\n",
    "testPredictPlot = np.empty_like(scaled_data)\n",
    "testPredictPlot[:, :] = np.nan\n",
    "testPredictPlot[len(x_train_inv)+(look_back*2)+1:len(scaled_data)-1, :] = x_test_inv\n",
    "# plot baseline and predictions\n",
    "plt.plot(scaler.inverse_transform(scaled_data))\n",
    "plt.plot(trainPredictPlot)\n",
    "plt.plot(testPredictPlot)\n",
    "plt.show()"
   ]
  },
  {
   "cell_type": "code",
   "execution_count": 26,
   "metadata": {},
   "outputs": [],
   "source": [
    "# d) LSTM network using Keras to predict the next month’s value given this month and the previous two months,\n",
    "# i.e., input size of 3"
   ]
  },
  {
   "cell_type": "code",
   "execution_count": 38,
   "metadata": {},
   "outputs": [],
   "source": [
    "time_step = 3\n",
    "x_train1, y_train1 = create_lstm_dataset(train_data, time_step)\n",
    "x_test1, y_test1 = create_lstm_dataset(test_data, time_step)"
   ]
  },
  {
   "cell_type": "code",
   "execution_count": 39,
   "metadata": {},
   "outputs": [
    {
     "data": {
      "text/plain": [
       "(92, 3)"
      ]
     },
     "execution_count": 39,
     "metadata": {},
     "output_type": "execute_result"
    }
   ],
   "source": [
    "x_train1.shape"
   ]
  },
  {
   "cell_type": "code",
   "execution_count": 41,
   "metadata": {},
   "outputs": [],
   "source": [
    "# reshape input to be [sample, time steps, features] which is required for LSTM\n",
    "x_train1 =x_train1.reshape(x_train1.shape[0], 3, 1)\n",
    "x_test1 = x_test1.reshape(x_test1.shape[0], 3, 1)"
   ]
  },
  {
   "cell_type": "code",
   "execution_count": 42,
   "metadata": {},
   "outputs": [
    {
     "name": "stdout",
     "output_type": "stream",
     "text": [
      "(92, 3, 1) (44, 3, 1)\n"
     ]
    }
   ],
   "source": [
    "print(x_train1.shape, x_test1.shape)"
   ]
  },
  {
   "cell_type": "code",
   "execution_count": 43,
   "metadata": {},
   "outputs": [
    {
     "name": "stdout",
     "output_type": "stream",
     "text": [
      "Model: \"sequential_3\"\n",
      "_________________________________________________________________\n",
      "Layer (type)                 Output Shape              Param #   \n",
      "=================================================================\n",
      "lstm_6 (LSTM)                (None, 3, 50)             10400     \n",
      "_________________________________________________________________\n",
      "lstm_7 (LSTM)                (None, 4)                 880       \n",
      "_________________________________________________________________\n",
      "dense_2 (Dense)              (None, 1)                 5         \n",
      "=================================================================\n",
      "Total params: 11,285\n",
      "Trainable params: 11,285\n",
      "Non-trainable params: 0\n",
      "_________________________________________________________________\n"
     ]
    }
   ],
   "source": [
    "# LSTM Network\n",
    "lstm_model1 = Sequential()\n",
    "lstm_model1.add(LSTM(50,return_sequences=True,input_shape=(3,1)))\n",
    "lstm_model1.add(LSTM(4))\n",
    "lstm_model1.add(Dense(1))\n",
    "lstm_model1.summary()"
   ]
  },
  {
   "cell_type": "code",
   "execution_count": 45,
   "metadata": {},
   "outputs": [
    {
     "name": "stdout",
     "output_type": "stream",
     "text": [
      "Epoch 1/100\n",
      "92/92 - 2s - loss: 0.0219\n",
      "Epoch 2/100\n",
      "92/92 - 0s - loss: 0.0089\n",
      "Epoch 3/100\n",
      "92/92 - 0s - loss: 0.0062\n",
      "Epoch 4/100\n",
      "92/92 - 0s - loss: 0.0059\n",
      "Epoch 5/100\n",
      "92/92 - 0s - loss: 0.0055\n",
      "Epoch 6/100\n",
      "92/92 - 0s - loss: 0.0052\n",
      "Epoch 7/100\n",
      "92/92 - 0s - loss: 0.0058\n",
      "Epoch 8/100\n",
      "92/92 - 0s - loss: 0.0052\n",
      "Epoch 9/100\n",
      "92/92 - 0s - loss: 0.0054\n",
      "Epoch 10/100\n",
      "92/92 - 0s - loss: 0.0051\n",
      "Epoch 11/100\n",
      "92/92 - 0s - loss: 0.0053\n",
      "Epoch 12/100\n",
      "92/92 - 0s - loss: 0.0051\n",
      "Epoch 13/100\n",
      "92/92 - 0s - loss: 0.0055\n",
      "Epoch 14/100\n",
      "92/92 - 0s - loss: 0.0050\n",
      "Epoch 15/100\n",
      "92/92 - 0s - loss: 0.0052\n",
      "Epoch 16/100\n",
      "92/92 - 0s - loss: 0.0049\n",
      "Epoch 17/100\n",
      "92/92 - 0s - loss: 0.0046\n",
      "Epoch 18/100\n",
      "92/92 - 0s - loss: 0.0046\n",
      "Epoch 19/100\n",
      "92/92 - 1s - loss: 0.0045\n",
      "Epoch 20/100\n",
      "92/92 - 0s - loss: 0.0047\n",
      "Epoch 21/100\n",
      "92/92 - 0s - loss: 0.0044\n",
      "Epoch 22/100\n",
      "92/92 - 0s - loss: 0.0047\n",
      "Epoch 23/100\n",
      "92/92 - 0s - loss: 0.0042\n",
      "Epoch 24/100\n",
      "92/92 - 0s - loss: 0.0043\n",
      "Epoch 25/100\n",
      "92/92 - 0s - loss: 0.0040\n",
      "Epoch 26/100\n",
      "92/92 - 0s - loss: 0.0041\n",
      "Epoch 27/100\n",
      "92/92 - 0s - loss: 0.0039\n",
      "Epoch 28/100\n",
      "92/92 - 0s - loss: 0.0034\n",
      "Epoch 29/100\n",
      "92/92 - 0s - loss: 0.0037\n",
      "Epoch 30/100\n",
      "92/92 - 0s - loss: 0.0032\n",
      "Epoch 31/100\n",
      "92/92 - 1s - loss: 0.0032\n",
      "Epoch 32/100\n",
      "92/92 - 0s - loss: 0.0031\n",
      "Epoch 33/100\n",
      "92/92 - 0s - loss: 0.0032\n",
      "Epoch 34/100\n",
      "92/92 - 0s - loss: 0.0029\n",
      "Epoch 35/100\n",
      "92/92 - 0s - loss: 0.0028\n",
      "Epoch 36/100\n",
      "92/92 - 1s - loss: 0.0028\n",
      "Epoch 37/100\n",
      "92/92 - 1s - loss: 0.0027\n",
      "Epoch 38/100\n",
      "92/92 - 1s - loss: 0.0024\n",
      "Epoch 39/100\n",
      "92/92 - 1s - loss: 0.0027\n",
      "Epoch 40/100\n",
      "92/92 - 1s - loss: 0.0024\n",
      "Epoch 41/100\n",
      "92/92 - 1s - loss: 0.0024\n",
      "Epoch 42/100\n",
      "92/92 - 1s - loss: 0.0022\n",
      "Epoch 43/100\n",
      "92/92 - 1s - loss: 0.0025\n",
      "Epoch 44/100\n",
      "92/92 - 1s - loss: 0.0021\n",
      "Epoch 45/100\n",
      "92/92 - 1s - loss: 0.0023\n",
      "Epoch 46/100\n",
      "92/92 - 1s - loss: 0.0024\n",
      "Epoch 47/100\n",
      "92/92 - 1s - loss: 0.0020\n",
      "Epoch 48/100\n",
      "92/92 - 1s - loss: 0.0022\n",
      "Epoch 49/100\n",
      "92/92 - 1s - loss: 0.0020\n",
      "Epoch 50/100\n",
      "92/92 - 1s - loss: 0.0021\n",
      "Epoch 51/100\n",
      "92/92 - 1s - loss: 0.0019\n",
      "Epoch 52/100\n",
      "92/92 - 1s - loss: 0.0019\n",
      "Epoch 53/100\n",
      "92/92 - 1s - loss: 0.0020\n",
      "Epoch 54/100\n",
      "92/92 - 1s - loss: 0.0021\n",
      "Epoch 55/100\n",
      "92/92 - 1s - loss: 0.0019\n",
      "Epoch 56/100\n",
      "92/92 - 1s - loss: 0.0019\n",
      "Epoch 57/100\n",
      "92/92 - 1s - loss: 0.0017\n",
      "Epoch 58/100\n",
      "92/92 - 1s - loss: 0.0018\n",
      "Epoch 59/100\n",
      "92/92 - 1s - loss: 0.0019\n",
      "Epoch 60/100\n",
      "92/92 - 1s - loss: 0.0019\n",
      "Epoch 61/100\n",
      "92/92 - 1s - loss: 0.0021\n",
      "Epoch 62/100\n",
      "92/92 - 1s - loss: 0.0017\n",
      "Epoch 63/100\n",
      "92/92 - 1s - loss: 0.0019\n",
      "Epoch 64/100\n",
      "92/92 - 1s - loss: 0.0018\n",
      "Epoch 65/100\n",
      "92/92 - 1s - loss: 0.0020\n",
      "Epoch 66/100\n",
      "92/92 - 1s - loss: 0.0019\n",
      "Epoch 67/100\n",
      "92/92 - 1s - loss: 0.0017\n",
      "Epoch 68/100\n",
      "92/92 - 1s - loss: 0.0017\n",
      "Epoch 69/100\n",
      "92/92 - 1s - loss: 0.0019\n",
      "Epoch 70/100\n",
      "92/92 - 1s - loss: 0.0022\n",
      "Epoch 71/100\n",
      "92/92 - 1s - loss: 0.0018\n",
      "Epoch 72/100\n",
      "92/92 - 1s - loss: 0.0017\n",
      "Epoch 73/100\n",
      "92/92 - 1s - loss: 0.0020\n",
      "Epoch 74/100\n",
      "92/92 - 1s - loss: 0.0020\n",
      "Epoch 75/100\n",
      "92/92 - 1s - loss: 0.0017\n",
      "Epoch 76/100\n",
      "92/92 - 1s - loss: 0.0019\n",
      "Epoch 77/100\n",
      "92/92 - 1s - loss: 0.0017\n",
      "Epoch 78/100\n",
      "92/92 - 1s - loss: 0.0019\n",
      "Epoch 79/100\n",
      "92/92 - 1s - loss: 0.0018\n",
      "Epoch 80/100\n",
      "92/92 - 1s - loss: 0.0018\n",
      "Epoch 81/100\n",
      "92/92 - 1s - loss: 0.0017\n",
      "Epoch 82/100\n",
      "92/92 - 1s - loss: 0.0021\n",
      "Epoch 83/100\n",
      "92/92 - 1s - loss: 0.0017\n",
      "Epoch 84/100\n",
      "92/92 - 1s - loss: 0.0018\n",
      "Epoch 85/100\n",
      "92/92 - 1s - loss: 0.0018\n",
      "Epoch 86/100\n",
      "92/92 - 1s - loss: 0.0018\n",
      "Epoch 87/100\n",
      "92/92 - 1s - loss: 0.0019\n",
      "Epoch 88/100\n",
      "92/92 - 1s - loss: 0.0018\n",
      "Epoch 89/100\n",
      "92/92 - 1s - loss: 0.0017\n",
      "Epoch 90/100\n",
      "92/92 - 1s - loss: 0.0020\n",
      "Epoch 91/100\n",
      "92/92 - 1s - loss: 0.0019\n",
      "Epoch 92/100\n",
      "92/92 - 1s - loss: 0.0019\n",
      "Epoch 93/100\n",
      "92/92 - 1s - loss: 0.0017\n",
      "Epoch 94/100\n",
      "92/92 - 1s - loss: 0.0017\n",
      "Epoch 95/100\n",
      "92/92 - 1s - loss: 0.0019\n",
      "Epoch 96/100\n",
      "92/92 - 1s - loss: 0.0018\n",
      "Epoch 97/100\n",
      "92/92 - 1s - loss: 0.0019\n",
      "Epoch 98/100\n",
      "92/92 - 1s - loss: 0.0016\n",
      "Epoch 99/100\n",
      "92/92 - 1s - loss: 0.0017\n",
      "Epoch 100/100\n",
      "92/92 - 1s - loss: 0.0019\n"
     ]
    },
    {
     "data": {
      "text/plain": [
       "<tensorflow.python.keras.callbacks.History at 0x1c92fd433c8>"
      ]
     },
     "execution_count": 45,
     "metadata": {},
     "output_type": "execute_result"
    }
   ],
   "source": [
    "lstm_model1.compile(loss='mean_squared_error', optimizer='adam')\n",
    "lstm_model1.fit(x_train1, y_train1, epochs=100, batch_size=1, verbose=2)"
   ]
  },
  {
   "cell_type": "code",
   "execution_count": 47,
   "metadata": {},
   "outputs": [],
   "source": [
    "# prediction\n",
    "x_train_pred1 = lstm_model1.predict(x_train1)\n",
    "x_test_pred1 = lstm_model1.predict(x_test1)"
   ]
  },
  {
   "cell_type": "code",
   "execution_count": 48,
   "metadata": {},
   "outputs": [],
   "source": [
    "# invert predictions to original data\n",
    "\n",
    "x_train_inv1 = scaler.inverse_transform(x_train_pred1)\n",
    "Y_train1 = scaler.inverse_transform([y_train1])\n",
    "\n",
    "x_test_inv1 = scaler.inverse_transform(x_test_pred1)\n",
    "Y_test1 = scaler.inverse_transform([y_test1])"
   ]
  },
  {
   "cell_type": "code",
   "execution_count": 49,
   "metadata": {},
   "outputs": [
    {
     "name": "stdout",
     "output_type": "stream",
     "text": [
      "Train Score RMSE:  26.21\n",
      "Test Score RMSE:  94.16\n"
     ]
    }
   ],
   "source": [
    "# calculate root mean squared error = Actual value - Predicted value\n",
    "\n",
    "trainScore1 = math.sqrt(mean_squared_error(Y_train1[0], x_train_inv1[:,0]))\n",
    "print('Train Score RMSE: ', (round(trainScore1, ndigits=2)))\n",
    "\n",
    "testScore1 = math.sqrt(mean_squared_error(Y_test1[0], x_test_inv1[:,0]))\n",
    "print('Test Score RMSE: ', (round(testScore1, ndigits=2)))"
   ]
  },
  {
   "cell_type": "code",
   "execution_count": 51,
   "metadata": {},
   "outputs": [
    {
     "data": {
      "image/png": "[encoded data removed]",
      "text/plain": [
       "<Figure size 432x288 with 1 Axes>"
      ]
     },
     "metadata": {
      "needs_background": "light"
     },
     "output_type": "display_data"
    }
   ],
   "source": [
    "# shift train predictions for plotting\n",
    "look_back=3\n",
    "trainPredictPlot1 = np.empty_like(scaled_data)\n",
    "trainPredictPlot1[:, :] = np.nan\n",
    "trainPredictPlot1[look_back:len(x_train_inv1)+look_back, :] = x_train_inv1\n",
    "# shift test predictions for plotting\n",
    "testPredictPlot1 = np.empty_like(scaled_data)\n",
    "testPredictPlot1[:, :] = np.nan\n",
    "testPredictPlot1[len(x_train_inv1)+(look_back*2)+1:len(scaled_data)-1, :] = x_test_inv1\n",
    "# plot baseline and predictions\n",
    "plt.plot(scaler.inverse_transform(scaled_data))\n",
    "plt.plot(trainPredictPlot1)\n",
    "plt.plot(testPredictPlot1)\n",
    "plt.show()"
   ]
  },
  {
   "cell_type": "code",
   "execution_count": 52,
   "metadata": {},
   "outputs": [],
   "source": [
    "# In the above graphs, original dataset is blue, the predictions for the training dataset is green, and \n",
    "# the predictions on the unseen test dataset is red"
   ]
  }
 ],
 "metadata": {
  "kernelspec": {
   "display_name": "Python 3",
   "language": "python",
   "name": "python3"
  },
  "language_info": {
   "codemirror_mode": {
    "name": "ipython",
    "version": 3
   },
   "file_extension": ".py",
   "mimetype": "text/x-python",
   "name": "python",
   "nbconvert_exporter": "python",
   "pygments_lexer": "ipython3",
   "version": "3.7.6"
  }
 },
 "nbformat": 4,
 "nbformat_minor": 4
}
