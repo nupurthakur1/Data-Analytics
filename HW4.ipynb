{
 "cells": [
  {
   "cell_type": "code",
   "execution_count": 68,
   "metadata": {},
   "outputs": [],
   "source": [
    "import numpy as np\n",
    "import pandas as pd\n",
    "import tensorflow as tf\n",
    "import matplotlib.pyplot as plt\n",
    "%matplotlib inline\n",
    "import seaborn as sns"
   ]
  },
  {
   "cell_type": "code",
   "execution_count": 75,
   "metadata": {},
   "outputs": [],
   "source": [
    "#Loading the Dataset\n",
    "train = pd.read_csv('train.csv')     #(42000, 785)\n",
    "test = pd.read_csv('test.csv')       #(28000, 784)"
   ]
  },
  {
   "cell_type": "code",
   "execution_count": 76,
   "metadata": {},
   "outputs": [],
   "source": [
    "y = train['label']                   #(42000,)\n",
    "train = train.drop('label', axis =1)"
   ]
  },
  {
   "cell_type": "code",
   "execution_count": 71,
   "metadata": {},
   "outputs": [
    {
     "data": {
      "text/plain": [
       "<matplotlib.axes._subplots.AxesSubplot at 0x2412eba60c8>"
      ]
     },
     "execution_count": 71,
     "metadata": {},
     "output_type": "execute_result"
    },
    {
     "data": {
      "image/png": "[encoded data removed]",
      "text/plain": [
       "<Figure size 432x288 with 1 Axes>"
      ]
     },
     "metadata": {
      "needs_background": "light"
     },
     "output_type": "display_data"
    }
   ],
   "source": [
    "#Visualizing the Distribution of digits in labels\n",
    "sns.countplot(y)"
   ]
  },
  {
   "cell_type": "code",
   "execution_count": 72,
   "metadata": {},
   "outputs": [
    {
     "data": {
      "image/png": "[encoded data removed]",
      "text/plain": [
       "<Figure size 432x288 with 1 Axes>"
      ]
     },
     "metadata": {
      "needs_background": "light"
     },
     "output_type": "display_data"
    }
   ],
   "source": [
    "#Visualing an example \n",
    "img = train.iloc[25].to_numpy()\n",
    "img = img.reshape((28,28))\n",
    "plt.imshow(img,cmap='gray')\n",
    "plt.title(y.iloc[10])\n",
    "plt.axis(\"off\")\n",
    "plt.show()"
   ]
  },
  {
   "cell_type": "code",
   "execution_count": 77,
   "metadata": {},
   "outputs": [
    {
     "name": "stdout",
     "output_type": "stream",
     "text": [
      "11090    0\n",
      "28997    8\n",
      "37838    5\n",
      "19257    1\n",
      "9491     6\n",
      "        ..\n",
      "33935    8\n",
      "25835    4\n",
      "13223    7\n",
      "17314    9\n",
      "25033    1\n",
      "Name: label, Length: 33600, dtype: int64\n"
     ]
    }
   ],
   "source": [
    "#Preprocessing the Data\n",
    "train=train/225.0\n",
    "test = test/225.0\n",
    "# train.shape (42000, 784)\n",
    "# test.shape (28000,784)\n",
    "train = np.array(train)\n",
    "test= np.array(test)\n",
    "train = train.reshape(train.shape[0], 28, 28,1)      #(42000, 28, 28, 1)\n",
    "test = test.reshape(test.shape[0], 28, 28,1)         #(28000, 28, 28, 2)\n",
    "#Splitting the data into training and validation \n",
    "from sklearn.model_selection import train_test_split\n",
    "X_train, X_val, Y_train, Y_val = train_test_split(train, y, test_size=0.2)\n",
    "print(Y_train)\n",
    "#Converting the train and validation labels to one-hot encodings\n",
    "Y_train = tf.keras.utils.to_categorical(Y_train, num_classes=10)\n",
    "Y_val = tf.keras.utils.to_categorical(Y_val, num_classes=10)"
   ]
  },
  {
   "cell_type": "code",
   "execution_count": 78,
   "metadata": {},
   "outputs": [
    {
     "name": "stdout",
     "output_type": "stream",
     "text": [
      "Model: \"sequential_12\"\n",
      "_________________________________________________________________\n",
      "Layer (type)                 Output Shape              Param #   \n",
      "=================================================================\n",
      "conv2d_30 (Conv2D)           (None, 24, 24, 64)        1664      \n",
      "_________________________________________________________________\n",
      "max_pooling2d_30 (MaxPooling (None, 12, 12, 64)        0         \n",
      "_________________________________________________________________\n",
      "dropout_30 (Dropout)         (None, 12, 12, 64)        0         \n",
      "_________________________________________________________________\n",
      "conv2d_31 (Conv2D)           (None, 8, 8, 128)         204928    \n",
      "_________________________________________________________________\n",
      "max_pooling2d_31 (MaxPooling (None, 4, 4, 128)         0         \n",
      "_________________________________________________________________\n",
      "dropout_31 (Dropout)         (None, 4, 4, 128)         0         \n",
      "_________________________________________________________________\n",
      "flatten_12 (Flatten)         (None, 2048)              0         \n",
      "_________________________________________________________________\n",
      "dense_24 (Dense)             (None, 128)               262272    \n",
      "_________________________________________________________________\n",
      "batch_normalization_12 (Batc (None, 128)               512       \n",
      "_________________________________________________________________\n",
      "dense_25 (Dense)             (None, 10)                1290      \n",
      "=================================================================\n",
      "Total params: 470,666\n",
      "Trainable params: 470,410\n",
      "Non-trainable params: 256\n",
      "_________________________________________________________________\n"
     ]
    }
   ],
   "source": [
    "#Preparing a CNN model architecture\n",
    "model1 = tf.keras.models.Sequential([\n",
    "            tf.keras.layers.Conv2D(64, (5,5), activation='relu', kernel_initializer='he_uniform',input_shape=(28, 28, 1)),\n",
    "            tf.keras.layers.MaxPooling2D(2, 2),\n",
    "            tf.keras.layers.Dropout(0.2),\n",
    "            tf.keras.layers.Conv2D(128, (5,5), activation='relu'),\n",
    "            tf.keras.layers.MaxPooling2D(2, 2),\n",
    "            \n",
    "            \n",
    "            tf.keras.layers.Dropout(0.25),\n",
    "            tf.keras.layers.Flatten(),\n",
    "            tf.keras.layers.Dense(128, activation='relu'),\n",
    "            tf.keras.layers.BatchNormalization(),\n",
    "            tf.keras.layers.Dense(10, activation='softmax')\n",
    "    ])\n",
    "\n",
    "# model1.summary()"
   ]
  },
  {
   "cell_type": "code",
   "execution_count": 10,
   "metadata": {},
   "outputs": [
    {
     "name": "stderr",
     "output_type": "stream",
     "text": [
      "Using TensorFlow backend.\n"
     ]
    },
    {
     "ename": "TypeError",
     "evalue": "'InputLayer' object is not iterable",
     "output_type": "error",
     "traceback": [
      "\u001b[1;31m---------------------------------------------------------------------------\u001b[0m",
      "\u001b[1;31mTypeError\u001b[0m                                 Traceback (most recent call last)",
      "\u001b[1;32m<ipython-input-10-e333e816c0b0>\u001b[0m in \u001b[0;36m<module>\u001b[1;34m\u001b[0m\n\u001b[0;32m      1\u001b[0m \u001b[1;32mfrom\u001b[0m \u001b[0mkeras\u001b[0m\u001b[1;33m.\u001b[0m\u001b[0mutils\u001b[0m \u001b[1;32mimport\u001b[0m \u001b[0mplot_model\u001b[0m\u001b[1;33m\u001b[0m\u001b[1;33m\u001b[0m\u001b[0m\n\u001b[1;32m----> 2\u001b[1;33m \u001b[0mplot_model\u001b[0m\u001b[1;33m(\u001b[0m\u001b[0mmodel\u001b[0m\u001b[1;33m,\u001b[0m \u001b[0mto_file\u001b[0m\u001b[1;33m=\u001b[0m\u001b[1;34m'model.png'\u001b[0m\u001b[1;33m,\u001b[0m \u001b[0mshow_shapes\u001b[0m\u001b[1;33m=\u001b[0m\u001b[1;32mTrue\u001b[0m\u001b[1;33m,\u001b[0m \u001b[0mshow_layer_names\u001b[0m\u001b[1;33m=\u001b[0m\u001b[1;32mTrue\u001b[0m\u001b[1;33m)\u001b[0m\u001b[1;33m\u001b[0m\u001b[1;33m\u001b[0m\u001b[0m\n\u001b[0m\u001b[0;32m      3\u001b[0m \u001b[1;32mfrom\u001b[0m \u001b[0mIPython\u001b[0m\u001b[1;33m.\u001b[0m\u001b[0mdisplay\u001b[0m \u001b[1;32mimport\u001b[0m \u001b[0mImage\u001b[0m\u001b[1;33m\u001b[0m\u001b[1;33m\u001b[0m\u001b[0m\n\u001b[0;32m      4\u001b[0m \u001b[0mImage\u001b[0m\u001b[1;33m(\u001b[0m\u001b[1;34m\"model.png\"\u001b[0m\u001b[1;33m)\u001b[0m\u001b[1;33m\u001b[0m\u001b[1;33m\u001b[0m\u001b[0m\n",
      "\u001b[1;32m~\\anaconda3\\lib\\site-packages\\keras\\utils\\vis_utils.py\u001b[0m in \u001b[0;36mplot_model\u001b[1;34m(model, to_file, show_shapes, show_layer_names, rankdir, expand_nested, dpi)\u001b[0m\n\u001b[0;32m    238\u001b[0m     \"\"\"\n\u001b[0;32m    239\u001b[0m     dot = model_to_dot(model, show_shapes, show_layer_names, rankdir,\n\u001b[1;32m--> 240\u001b[1;33m                        expand_nested, dpi)\n\u001b[0m\u001b[0;32m    241\u001b[0m     \u001b[0m_\u001b[0m\u001b[1;33m,\u001b[0m \u001b[0mextension\u001b[0m \u001b[1;33m=\u001b[0m \u001b[0mos\u001b[0m\u001b[1;33m.\u001b[0m\u001b[0mpath\u001b[0m\u001b[1;33m.\u001b[0m\u001b[0msplitext\u001b[0m\u001b[1;33m(\u001b[0m\u001b[0mto_file\u001b[0m\u001b[1;33m)\u001b[0m\u001b[1;33m\u001b[0m\u001b[1;33m\u001b[0m\u001b[0m\n\u001b[0;32m    242\u001b[0m     \u001b[1;32mif\u001b[0m \u001b[1;32mnot\u001b[0m \u001b[0mextension\u001b[0m\u001b[1;33m:\u001b[0m\u001b[1;33m\u001b[0m\u001b[1;33m\u001b[0m\u001b[0m\n",
      "\u001b[1;32m~\\anaconda3\\lib\\site-packages\\keras\\utils\\vis_utils.py\u001b[0m in \u001b[0;36mmodel_to_dot\u001b[1;34m(model, show_shapes, show_layer_names, rankdir, expand_nested, dpi, subgraph)\u001b[0m\n\u001b[0;32m    167\u001b[0m             \u001b[0mnode_key\u001b[0m \u001b[1;33m=\u001b[0m \u001b[0mlayer\u001b[0m\u001b[1;33m.\u001b[0m\u001b[0mname\u001b[0m \u001b[1;33m+\u001b[0m \u001b[1;34m'_ib-'\u001b[0m \u001b[1;33m+\u001b[0m \u001b[0mstr\u001b[0m\u001b[1;33m(\u001b[0m\u001b[0mi\u001b[0m\u001b[1;33m)\u001b[0m\u001b[1;33m\u001b[0m\u001b[1;33m\u001b[0m\u001b[0m\n\u001b[0;32m    168\u001b[0m             \u001b[1;32mif\u001b[0m \u001b[0mnode_key\u001b[0m \u001b[1;32min\u001b[0m \u001b[0mmodel\u001b[0m\u001b[1;33m.\u001b[0m\u001b[0m_network_nodes\u001b[0m\u001b[1;33m:\u001b[0m\u001b[1;33m\u001b[0m\u001b[1;33m\u001b[0m\u001b[0m\n\u001b[1;32m--> 169\u001b[1;33m                 \u001b[1;32mfor\u001b[0m \u001b[0minbound_layer\u001b[0m \u001b[1;32min\u001b[0m \u001b[0mnode\u001b[0m\u001b[1;33m.\u001b[0m\u001b[0minbound_layers\u001b[0m\u001b[1;33m:\u001b[0m\u001b[1;33m\u001b[0m\u001b[1;33m\u001b[0m\u001b[0m\n\u001b[0m\u001b[0;32m    170\u001b[0m                     \u001b[0minbound_layer_id\u001b[0m \u001b[1;33m=\u001b[0m \u001b[0mstr\u001b[0m\u001b[1;33m(\u001b[0m\u001b[0mid\u001b[0m\u001b[1;33m(\u001b[0m\u001b[0minbound_layer\u001b[0m\u001b[1;33m)\u001b[0m\u001b[1;33m)\u001b[0m\u001b[1;33m\u001b[0m\u001b[1;33m\u001b[0m\u001b[0m\n\u001b[0;32m    171\u001b[0m                     \u001b[1;32mif\u001b[0m \u001b[1;32mnot\u001b[0m \u001b[0mexpand_nested\u001b[0m\u001b[1;33m:\u001b[0m\u001b[1;33m\u001b[0m\u001b[1;33m\u001b[0m\u001b[0m\n",
      "\u001b[1;31mTypeError\u001b[0m: 'InputLayer' object is not iterable"
     ]
    }
   ],
   "source": [
    "from keras.utils import plot_model\n",
    "plot_model(model, to_file='model.png', show_shapes=True, show_layer_names=True)\n",
    "from IPython.display import Image\n",
    "Image(\"model.png\")"
   ]
  },
  {
   "cell_type": "code",
   "execution_count": 79,
   "metadata": {},
   "outputs": [],
   "source": [
    "#Compiling the model\n",
    "model1.compile(optimizer= tf.keras.optimizers.SGD(lr=0.1, momentum=0.9), loss='categorical_crossentropy', metrics=['accuracy'])"
   ]
  },
  {
   "cell_type": "code",
   "execution_count": 80,
   "metadata": {},
   "outputs": [],
   "source": [
    "#Data augmentation to prevent overfitting\n",
    "datagen = tf.keras.preprocessing.image.ImageDataGenerator(\n",
    "        rotation_range=30, \n",
    "        zoom_range = 0.2, \n",
    "        width_shift_range=0.1,  \n",
    "        height_shift_range=0.1,)  "
   ]
  },
  {
   "cell_type": "code",
   "execution_count": 82,
   "metadata": {},
   "outputs": [
    {
     "name": "stdout",
     "output_type": "stream",
     "text": [
      "Epoch 1/15\n",
      "525/525 [==============================] - 38s 73ms/step - loss: 0.5537 - acc: 0.8212 - val_loss: 0.2195 - val_acc: 0.9295\n",
      "Epoch 2/15\n",
      "525/525 [==============================] - 52s 99ms/step - loss: 0.1852 - acc: 0.9421 - val_loss: 0.0584 - val_acc: 0.9820\n",
      "Epoch 3/15\n",
      "525/525 [==============================] - 52s 98ms/step - loss: 0.1420 - acc: 0.9559 - val_loss: 0.0519 - val_acc: 0.9844\n",
      "Epoch 4/15\n",
      "525/525 [==============================] - 49s 94ms/step - loss: 0.1237 - acc: 0.9614 - val_loss: 0.0489 - val_acc: 0.9846\n",
      "Epoch 5/15\n",
      "525/525 [==============================] - 52s 100ms/step - loss: 0.1072 - acc: 0.9667 - val_loss: 0.0475 - val_acc: 0.9857\n",
      "Epoch 6/15\n",
      "525/525 [==============================] - 48s 91ms/step - loss: 0.1013 - acc: 0.9681 - val_loss: 0.0360 - val_acc: 0.9888\n",
      "Epoch 7/15\n",
      "525/525 [==============================] - 47s 89ms/step - loss: 0.0961 - acc: 0.9709 - val_loss: 0.0523 - val_acc: 0.9844\n",
      "Epoch 8/15\n",
      "525/525 [==============================] - 47s 89ms/step - loss: 0.0856 - acc: 0.9731 - val_loss: 0.0342 - val_acc: 0.9887\n",
      "Epoch 9/15\n",
      "525/525 [==============================] - 47s 90ms/step - loss: 0.0835 - acc: 0.9734 - val_loss: 0.0323 - val_acc: 0.9899\n",
      "Epoch 10/15\n",
      "525/525 [==============================] - 48s 92ms/step - loss: 0.0807 - acc: 0.9754 - val_loss: 0.0351 - val_acc: 0.9899\n",
      "Epoch 11/15\n",
      "525/525 [==============================] - 46s 89ms/step - loss: 0.0805 - acc: 0.9747 - val_loss: 0.0389 - val_acc: 0.9895\n",
      "Epoch 12/15\n",
      "525/525 [==============================] - 47s 90ms/step - loss: 0.0729 - acc: 0.9770 - val_loss: 0.0343 - val_acc: 0.9896\n",
      "Epoch 13/15\n",
      "525/525 [==============================] - 47s 89ms/step - loss: 0.0706 - acc: 0.9769 - val_loss: 0.0286 - val_acc: 0.9907\n",
      "Epoch 14/15\n",
      "525/525 [==============================] - 47s 89ms/step - loss: 0.0696 - acc: 0.9787 - val_loss: 0.0234 - val_acc: 0.9927\n",
      "Epoch 15/15\n",
      "525/525 [==============================] - 47s 89ms/step - loss: 0.0673 - acc: 0.9789 - val_loss: 0.0291 - val_acc: 0.9919\n"
     ]
    }
   ],
   "source": [
    "#Training the model\n",
    "history1 = model1.fit_generator(datagen.flow(X_train, Y_train,batch_size=64),validation_data=(X_val, Y_val),epochs=15,steps_per_epoch=X_train.shape[0] // 64)"
   ]
  },
  {
   "cell_type": "code",
   "execution_count": 84,
   "metadata": {},
   "outputs": [
    {
     "data": {
      "image/png": "[encoded data removed]",
      "text/plain": [
       "<Figure size 432x288 with 1 Axes>"
      ]
     },
     "metadata": {
      "needs_background": "light"
     },
     "output_type": "display_data"
    }
   ],
   "source": [
    "#Comparing losses and accuraries \n",
    "# plt.plot(history1.history['loss'], color='r')\n",
    "# plt.plot(history1.history['val_loss'], color='b')\n",
    "# plt.show()\n",
    "plt.plot(history1.history['acc'], color='r')\n",
    "plt.plot(history1.history['val_acc'], color='b')\n",
    "plt.show()"
   ]
  },
  {
   "cell_type": "code",
   "execution_count": 100,
   "metadata": {},
   "outputs": [
    {
     "name": "stdout",
     "output_type": "stream",
     "text": [
      "[[842   0   1   0   0   0   3   0   3   0]\n",
      " [  0 935   0   1   1   1   1   1   1   0]\n",
      " [  0   1 878   0   2   0   0   2   3   0]\n",
      " [  0   0   0 817   0   4   0   1   3   0]\n",
      " [  0   1   0   0 785   0   0   0   1   5]\n",
      " [  0   0   0   1   0 761   4   0   3   0]\n",
      " [  0   0   0   0   1   0 832   0   0   0]\n",
      " [  0   0   5   0   5   0   0 857   1   2]\n",
      " [  0   0   2   0   0   0   0   0 799   1]\n",
      " [  0   0   0   0   3   0   0   0   4 826]]\n"
     ]
    }
   ],
   "source": [
    "#Plotting Confusion Matrix\n",
    "y_pred1 = model1.predict(X_val)\n",
    "y_pred1 = np.argmax(y_pred1, axis=1)\n",
    "y_true = np.argmax(Y_val, axis=1)\n",
    "from sklearn.metrics import confusion_matrix\n",
    "cm = confusion_matrix(y_true, y_pred1)\n",
    "print(cm)"
   ]
  },
  {
   "cell_type": "markdown",
   "metadata": {},
   "source": [
    "# Number of neurons (128,256)"
   ]
  },
  {
   "cell_type": "code",
   "execution_count": 87,
   "metadata": {},
   "outputs": [
    {
     "name": "stdout",
     "output_type": "stream",
     "text": [
      "Model: \"sequential_14\"\n",
      "_________________________________________________________________\n",
      "Layer (type)                 Output Shape              Param #   \n",
      "=================================================================\n",
      "conv2d_35 (Conv2D)           (None, 28, 28, 128)       3328      \n",
      "_________________________________________________________________\n",
      "max_pooling2d_35 (MaxPooling (None, 14, 14, 128)       0         \n",
      "_________________________________________________________________\n",
      "dropout_35 (Dropout)         (None, 14, 14, 128)       0         \n",
      "_________________________________________________________________\n",
      "conv2d_36 (Conv2D)           (None, 14, 14, 256)       819456    \n",
      "_________________________________________________________________\n",
      "max_pooling2d_36 (MaxPooling (None, 7, 7, 256)         0         \n",
      "_________________________________________________________________\n",
      "dropout_36 (Dropout)         (None, 7, 7, 256)         0         \n",
      "_________________________________________________________________\n",
      "flatten_14 (Flatten)         (None, 12544)             0         \n",
      "_________________________________________________________________\n",
      "dense_28 (Dense)             (None, 128)               1605760   \n",
      "_________________________________________________________________\n",
      "batch_normalization_14 (Batc (None, 128)               512       \n",
      "_________________________________________________________________\n",
      "dense_29 (Dense)             (None, 10)                1290      \n",
      "=================================================================\n",
      "Total params: 2,430,346\n",
      "Trainable params: 2,430,090\n",
      "Non-trainable params: 256\n",
      "_________________________________________________________________\n"
     ]
    }
   ],
   "source": [
    "#Preparing a CNN model architecture\n",
    "model2 = tf.keras.models.Sequential([\n",
    "            tf.keras.layers.Conv2D(128, (5,5), activation='relu', padding='same', kernel_initializer='he_uniform',input_shape=(28, 28, 1)),\n",
    "            tf.keras.layers.MaxPooling2D(2, 2),\n",
    "            tf.keras.layers.Dropout(0.2),\n",
    "            tf.keras.layers.Conv2D(256, (5,5), activation='relu', padding='same'),\n",
    "            tf.keras.layers.MaxPooling2D(2, 2),\n",
    "            \n",
    "            tf.keras.layers.Dropout(0.25),\n",
    "            tf.keras.layers.Flatten(),\n",
    "            tf.keras.layers.Dense(128, activation='relu'),\n",
    "            tf.keras.layers.BatchNormalization(),\n",
    "            tf.keras.layers.Dense(10, activation='softmax')\n",
    "    ])\n",
    "\n",
    "model2.summary()"
   ]
  },
  {
   "cell_type": "code",
   "execution_count": 90,
   "metadata": {},
   "outputs": [],
   "source": [
    "#Compiling the model\n",
    "model2.compile(optimizer= tf.keras.optimizers.SGD(lr=0.1, momentum=0.9), loss='categorical_crossentropy', metrics=['accuracy'])"
   ]
  },
  {
   "cell_type": "code",
   "execution_count": 91,
   "metadata": {},
   "outputs": [],
   "source": [
    "#Data augmentation to prevent overfitting\n",
    "datagen = tf.keras.preprocessing.image.ImageDataGenerator(\n",
    "        rotation_range=30, \n",
    "        zoom_range = 0.2, \n",
    "        width_shift_range=0.1,  \n",
    "        height_shift_range=0.1,)  "
   ]
  },
  {
   "cell_type": "code",
   "execution_count": 92,
   "metadata": {},
   "outputs": [
    {
     "name": "stdout",
     "output_type": "stream",
     "text": [
      "Epoch 1/15\n",
      "525/525 [==============================] - 332s 632ms/step - loss: 0.6010 - acc: 0.8038 - val_loss: 0.2312 - val_acc: 0.9277\n",
      "Epoch 2/15\n",
      "525/525 [==============================] - 340s 647ms/step - loss: 0.1708 - acc: 0.9462 - val_loss: 0.0654 - val_acc: 0.9811\n",
      "Epoch 3/15\n",
      "525/525 [==============================] - 343s 653ms/step - loss: 0.1237 - acc: 0.9603 - val_loss: 0.0609 - val_acc: 0.9826\n",
      "Epoch 4/15\n",
      "525/525 [==============================] - 341s 650ms/step - loss: 0.1045 - acc: 0.9673 - val_loss: 0.1127 - val_acc: 0.9707\n",
      "Epoch 5/15\n",
      "525/525 [==============================] - 343s 654ms/step - loss: 0.0876 - acc: 0.9730 - val_loss: 0.0480 - val_acc: 0.9862\n",
      "Epoch 6/15\n",
      "525/525 [==============================] - 346s 658ms/step - loss: 0.0792 - acc: 0.9751 - val_loss: 0.0553 - val_acc: 0.9836\n",
      "Epoch 7/15\n",
      "525/525 [==============================] - 342s 651ms/step - loss: 0.0785 - acc: 0.9763 - val_loss: 0.0405 - val_acc: 0.9882\n",
      "Epoch 8/15\n",
      "525/525 [==============================] - 340s 647ms/step - loss: 0.0687 - acc: 0.9781 - val_loss: 0.0385 - val_acc: 0.9883\n",
      "Epoch 9/15\n",
      "525/525 [==============================] - 340s 647ms/step - loss: 0.0648 - acc: 0.9801 - val_loss: 0.0421 - val_acc: 0.9886\n",
      "Epoch 10/15\n",
      "525/525 [==============================] - 339s 645ms/step - loss: 0.0631 - acc: 0.9806 - val_loss: 0.0285 - val_acc: 0.9914\n",
      "Epoch 11/15\n",
      "525/525 [==============================] - 340s 648ms/step - loss: 0.0593 - acc: 0.9805 - val_loss: 0.0401 - val_acc: 0.9889\n",
      "Epoch 12/15\n",
      "525/525 [==============================] - 339s 646ms/step - loss: 0.0595 - acc: 0.9810 - val_loss: 0.0322 - val_acc: 0.9918\n",
      "Epoch 13/15\n",
      "525/525 [==============================] - 342s 651ms/step - loss: 0.0539 - acc: 0.9827 - val_loss: 0.0339 - val_acc: 0.9907\n",
      "Epoch 14/15\n",
      "525/525 [==============================] - 343s 653ms/step - loss: 0.0545 - acc: 0.9833 - val_loss: 0.0309 - val_acc: 0.9912\n",
      "Epoch 15/15\n",
      "525/525 [==============================] - 341s 649ms/step - loss: 0.0548 - acc: 0.9830 - val_loss: 0.0593 - val_acc: 0.9810\n"
     ]
    }
   ],
   "source": [
    "#Training the model\n",
    "history2 = model2.fit_generator(datagen.flow(X_train, Y_train,batch_size=64),validation_data=(X_val, Y_val),epochs=15,steps_per_epoch=X_train.shape[0] // 64)"
   ]
  },
  {
   "cell_type": "code",
   "execution_count": 93,
   "metadata": {},
   "outputs": [
    {
     "data": {
      "image/png": "[encoded data removed]",
      "text/plain": [
       "<Figure size 432x288 with 1 Axes>"
      ]
     },
     "metadata": {
      "needs_background": "light"
     },
     "output_type": "display_data"
    }
   ],
   "source": [
    "#Comparing losses and accuraries \n",
    "# plt.plot(history2.history['loss'], color='r')\n",
    "# plt.plot(history2.history['val_loss'], color='b')\n",
    "# plt.show()\n",
    "plt.plot(history2.history['acc'], color='r')\n",
    "plt.plot(history2.history['val_acc'], color='b')\n",
    "plt.show()"
   ]
  },
  {
   "cell_type": "code",
   "execution_count": 101,
   "metadata": {},
   "outputs": [
    {
     "name": "stdout",
     "output_type": "stream",
     "text": [
      "[[837   0   8   0   0   0   0   0   3   1]\n",
      " [  0 915   3   1   8   1   8   4   1   0]\n",
      " [  0   1 884   0   0   0   0   0   1   0]\n",
      " [  0   0   4 820   0   1   0   0   0   0]\n",
      " [  0   0   0   0 787   0   0   1   0   4]\n",
      " [  0   0   0   8   0 756   3   0   1   1]\n",
      " [  0   0   1   0   1   2 829   0   0   0]\n",
      " [  0   0  54   2   4   0   0 810   0   0]\n",
      " [  0   0  11   0   0   0   0   1 789   1]\n",
      " [  1   0   6   0   9   0   0   1   3 813]]\n"
     ]
    }
   ],
   "source": [
    "#Plotting Confusion Matrix\n",
    "y_pred1 = model2.predict(X_val)\n",
    "y_pred1 = np.argmax(y_pred1, axis=1)\n",
    "y_true = np.argmax(Y_val, axis=1)\n",
    "from sklearn.metrics import confusion_matrix\n",
    "cm = confusion_matrix(y_true, y_pred1)\n",
    "print(cm)"
   ]
  },
  {
   "cell_type": "markdown",
   "metadata": {},
   "source": [
    "# 3 conv layers (32,64,128)"
   ]
  },
  {
   "cell_type": "code",
   "execution_count": 95,
   "metadata": {},
   "outputs": [
    {
     "name": "stdout",
     "output_type": "stream",
     "text": [
      "Model: \"sequential_16\"\n",
      "_________________________________________________________________\n",
      "Layer (type)                 Output Shape              Param #   \n",
      "=================================================================\n",
      "conv2d_40 (Conv2D)           (None, 28, 28, 32)        832       \n",
      "_________________________________________________________________\n",
      "max_pooling2d_40 (MaxPooling (None, 14, 14, 32)        0         \n",
      "_________________________________________________________________\n",
      "dropout_40 (Dropout)         (None, 14, 14, 32)        0         \n",
      "_________________________________________________________________\n",
      "conv2d_41 (Conv2D)           (None, 14, 14, 64)        51264     \n",
      "_________________________________________________________________\n",
      "max_pooling2d_41 (MaxPooling (None, 7, 7, 64)          0         \n",
      "_________________________________________________________________\n",
      "dropout_41 (Dropout)         (None, 7, 7, 64)          0         \n",
      "_________________________________________________________________\n",
      "conv2d_42 (Conv2D)           (None, 7, 7, 128)         204928    \n",
      "_________________________________________________________________\n",
      "max_pooling2d_42 (MaxPooling (None, 3, 3, 128)         0         \n",
      "_________________________________________________________________\n",
      "dropout_42 (Dropout)         (None, 3, 3, 128)         0         \n",
      "_________________________________________________________________\n",
      "flatten_16 (Flatten)         (None, 1152)              0         \n",
      "_________________________________________________________________\n",
      "dense_32 (Dense)             (None, 128)               147584    \n",
      "_________________________________________________________________\n",
      "batch_normalization_16 (Batc (None, 128)               512       \n",
      "_________________________________________________________________\n",
      "dense_33 (Dense)             (None, 10)                1290      \n",
      "=================================================================\n",
      "Total params: 406,410\n",
      "Trainable params: 406,154\n",
      "Non-trainable params: 256\n",
      "_________________________________________________________________\n"
     ]
    }
   ],
   "source": [
    "#Preparing a CNN model architecture\n",
    "model3 = tf.keras.models.Sequential([\n",
    "            tf.keras.layers.Conv2D(32, (5,5), activation='relu', padding='same', kernel_initializer='he_uniform',input_shape=(28, 28, 1)),\n",
    "            tf.keras.layers.MaxPooling2D(2, 2),\n",
    "            tf.keras.layers.Dropout(0.2),\n",
    "            tf.keras.layers.Conv2D(64, (5,5), activation='relu', padding='same',),\n",
    "            tf.keras.layers.MaxPooling2D(2, 2),\n",
    "            tf.keras.layers.Dropout(0.2),\n",
    "            tf.keras.layers.Conv2D(128, (5,5), activation='relu', padding='same',),\n",
    "            tf.keras.layers.MaxPooling2D(2, 2),\n",
    "            \n",
    "            \n",
    "            tf.keras.layers.Dropout(0.25),\n",
    "            tf.keras.layers.Flatten(),\n",
    "            tf.keras.layers.Dense(128, activation='relu'),\n",
    "            tf.keras.layers.BatchNormalization(),\n",
    "            tf.keras.layers.Dense(10, activation='softmax')\n",
    "    ])\n",
    "\n",
    "model3.summary()"
   ]
  },
  {
   "cell_type": "code",
   "execution_count": 96,
   "metadata": {},
   "outputs": [],
   "source": [
    "#Compiling the model\n",
    "model3.compile(optimizer= tf.keras.optimizers.SGD(lr=0.1, momentum=0.9), loss='categorical_crossentropy', metrics=['accuracy'])"
   ]
  },
  {
   "cell_type": "code",
   "execution_count": 97,
   "metadata": {},
   "outputs": [],
   "source": [
    "#Data augmentation to prevent overfitting\n",
    "datagen = tf.keras.preprocessing.image.ImageDataGenerator(\n",
    "        rotation_range=30, \n",
    "        zoom_range = 0.2, \n",
    "        width_shift_range=0.1,  \n",
    "        height_shift_range=0.1,)  "
   ]
  },
  {
   "cell_type": "code",
   "execution_count": 98,
   "metadata": {},
   "outputs": [
    {
     "name": "stdout",
     "output_type": "stream",
     "text": [
      "Epoch 1/15\n",
      "525/525 [==============================] - 76s 144ms/step - loss: 0.7123 - acc: 0.7638 - val_loss: 0.0734 - val_acc: 0.9775\n",
      "Epoch 2/15\n",
      "525/525 [==============================] - 90s 171ms/step - loss: 0.1902 - acc: 0.9422 - val_loss: 0.0602 - val_acc: 0.9812\n",
      "Epoch 3/15\n",
      "525/525 [==============================] - 91s 174ms/step - loss: 0.1390 - acc: 0.9574 - val_loss: 0.0492 - val_acc: 0.9862\n",
      "Epoch 4/15\n",
      "525/525 [==============================] - 91s 174ms/step - loss: 0.1211 - acc: 0.9633 - val_loss: 0.0495 - val_acc: 0.9863\n",
      "Epoch 5/15\n",
      "525/525 [==============================] - 90s 171ms/step - loss: 0.1021 - acc: 0.9689 - val_loss: 0.0397 - val_acc: 0.9882\n",
      "Epoch 6/15\n",
      "525/525 [==============================] - 90s 172ms/step - loss: 0.1000 - acc: 0.9688 - val_loss: 0.0422 - val_acc: 0.9874\n",
      "Epoch 7/15\n",
      "525/525 [==============================] - 91s 174ms/step - loss: 0.0892 - acc: 0.9726 - val_loss: 0.0333 - val_acc: 0.9892\n",
      "Epoch 8/15\n",
      "525/525 [==============================] - 92s 175ms/step - loss: 0.0858 - acc: 0.9728 - val_loss: 0.0373 - val_acc: 0.9895\n",
      "Epoch 9/15\n",
      "525/525 [==============================] - 91s 173ms/step - loss: 0.0797 - acc: 0.9757 - val_loss: 0.0335 - val_acc: 0.9904\n",
      "Epoch 10/15\n",
      "525/525 [==============================] - 91s 174ms/step - loss: 0.0732 - acc: 0.9777 - val_loss: 0.0324 - val_acc: 0.9913\n",
      "Epoch 11/15\n",
      "525/525 [==============================] - 91s 173ms/step - loss: 0.0738 - acc: 0.9777 - val_loss: 0.0288 - val_acc: 0.9920\n",
      "Epoch 12/15\n",
      "525/525 [==============================] - 91s 174ms/step - loss: 0.0662 - acc: 0.9795 - val_loss: 0.0352 - val_acc: 0.9901\n",
      "Epoch 13/15\n",
      "525/525 [==============================] - 91s 174ms/step - loss: 0.0650 - acc: 0.9801 - val_loss: 0.0337 - val_acc: 0.9908\n",
      "Epoch 14/15\n",
      "525/525 [==============================] - 92s 175ms/step - loss: 0.0661 - acc: 0.9787 - val_loss: 0.0297 - val_acc: 0.9915\n",
      "Epoch 15/15\n",
      "525/525 [==============================] - 92s 174ms/step - loss: 0.0594 - acc: 0.9820 - val_loss: 0.0276 - val_acc: 0.9917\n"
     ]
    }
   ],
   "source": [
    "#Training the model\n",
    "history3 = model3.fit_generator(datagen.flow(X_train, Y_train,batch_size=64),validation_data=(X_val, Y_val),epochs=15,steps_per_epoch=X_train.shape[0] // 64)"
   ]
  },
  {
   "cell_type": "code",
   "execution_count": 99,
   "metadata": {},
   "outputs": [
    {
     "data": {
      "image/png": "[encoded data removed]",
      "text/plain": [
       "<Figure size 432x288 with 1 Axes>"
      ]
     },
     "metadata": {
      "needs_background": "light"
     },
     "output_type": "display_data"
    }
   ],
   "source": [
    "#Comparing losses and accuraries \n",
    "# plt.plot(history3.history['loss'], color='r')\n",
    "# plt.plot(history3.history['val_loss'], color='b')\n",
    "# plt.show()\n",
    "plt.plot(history3.history['acc'], color='r')\n",
    "plt.plot(history3.history['val_acc'], color='b')\n",
    "plt.show()"
   ]
  },
  {
   "cell_type": "code",
   "execution_count": 102,
   "metadata": {},
   "outputs": [
    {
     "name": "stdout",
     "output_type": "stream",
     "text": [
      "[[845   1   1   0   0   0   0   0   2   0]\n",
      " [  0 939   0   0   0   0   0   2   0   0]\n",
      " [  0   4 871   3   0   0   1   6   1   0]\n",
      " [  0   0   0 821   0   3   0   1   0   0]\n",
      " [  0   2   0   0 780   0   0   1   0   9]\n",
      " [  1   0   0   4   0 759   2   0   1   2]\n",
      " [  0   0   0   0   1   2 829   0   1   0]\n",
      " [  0   0   1   1   2   0   0 866   0   0]\n",
      " [  1   2   1   1   0   1   1   1 791   3]\n",
      " [  1   0   0   0   1   0   0   2   0 829]]\n"
     ]
    }
   ],
   "source": [
    "#Plotting Confusion Matrix\n",
    "y_pred1 = model3.predict(X_val)\n",
    "y_pred1 = np.argmax(y_pred1, axis=1)\n",
    "y_true = np.argmax(Y_val, axis=1)\n",
    "from sklearn.metrics import confusion_matrix\n",
    "cm = confusion_matrix(y_true, y_pred1)\n",
    "print(cm)"
   ]
  },
  {
   "cell_type": "code",
   "execution_count": null,
   "metadata": {},
   "outputs": [],
   "source": []
  }
 ],
 "metadata": {
  "kernelspec": {
   "display_name": "Python 3",
   "language": "python",
   "name": "python3"
  },
  "language_info": {
   "codemirror_mode": {
    "name": "ipython",
    "version": 3
   },
   "file_extension": ".py",
   "mimetype": "text/x-python",
   "name": "python",
   "nbconvert_exporter": "python",
   "pygments_lexer": "ipython3",
   "version": "3.7.6"
  }
 },
 "nbformat": 4,
 "nbformat_minor": 4
}
