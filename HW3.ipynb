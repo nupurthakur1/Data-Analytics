{
 "cells": [
  {
   "cell_type": "code",
   "execution_count": 1,
   "metadata": {},
   "outputs": [],
   "source": [
    "import pandas as pd\n",
    "import numpy as np\n",
    "from sklearn.preprocessing import MinMaxScaler\n",
    "from sklearn import preprocessing\n",
    "from sklearn.model_selection import train_test_split\n",
    "import matplotlib.pyplot as plt\n",
    "%matplotlib inline \n",
    "from sklearn.linear_model import LogisticRegression\n",
    "from sklearn.metrics import confusion_matrix, accuracy_score, mean_squared_error\n",
    "from math import sqrt"
   ]
  },
  {
   "cell_type": "code",
   "execution_count": 2,
   "metadata": {},
   "outputs": [],
   "source": [
    "df = pd.read_csv('breast-cancer-wisconsin.csv',names=['ID','0','1','2','3','4','5','6','7','8','9'])\n",
    "df = df.drop(['ID'], axis=1)"
   ]
  },
  {
   "cell_type": "code",
   "execution_count": 3,
   "metadata": {},
   "outputs": [],
   "source": [
    "features=['0','1','2','3','4','5','6','7','8']\n",
    "x = df[features]\n",
    "y = df['9']"
   ]
  },
  {
   "cell_type": "code",
   "execution_count": 4,
   "metadata": {},
   "outputs": [],
   "source": [
    "X_train, X_test, y_train, y_test = train_test_split(x, y.values,train_size=400, shuffle=False)\n",
    "# X_train.tail()"
   ]
  },
  {
   "cell_type": "markdown",
   "metadata": {},
   "source": [
    "# Logistic Regression"
   ]
  },
  {
   "cell_type": "code",
   "execution_count": 5,
   "metadata": {},
   "outputs": [
    {
     "name": "stdout",
     "output_type": "stream",
     "text": [
      "Accuracy: 98.93992932862191\n",
      "confusion matrix\n",
      " [[214   2]\n",
      " [  1  66]]\n",
      "Misclassification rate:  1.0600706713780883\n"
     ]
    }
   ],
   "source": [
    "logReg_clf = LogisticRegression(random_state=42)\n",
    "y_pred = []\n",
    "logReg_clf.fit(X_train, y_train)\n",
    "y_pred = logReg_clf.predict(X_test)\n",
    "acc = accuracy_score(y_test, y_pred)\n",
    "cm_log = confusion_matrix(y_test, y_pred)\n",
    "print('Accuracy:', acc*100)\n",
    "print('confusion matrix\\n', cm_log)\n",
    "print('Misclassification rate: ', (1 - accuracy_score(y_test, y_pred))*100)"
   ]
  },
  {
   "cell_type": "code",
   "execution_count": 6,
   "metadata": {},
   "outputs": [],
   "source": [
    "#Predicted probabilities of correctly classified instances\n",
    "Prob_y_pred = []\n",
    "Prob_y_pred = logReg_clf.predict_proba(X_test)\n",
    "corr_inst = []\n",
    "def match(y_test, Prod_y_pred):\n",
    "    \n",
    "    for i in range(len(y_test)):\n",
    "        if y_pred[i] == y_test[i]:\n",
    "            corr_inst.append(np.max(Prob_y_pred[i]))\n",
    "    return corr_inst"
   ]
  },
  {
   "cell_type": "code",
   "execution_count": 7,
   "metadata": {},
   "outputs": [
    {
     "name": "stdout",
     "output_type": "stream",
     "text": [
      "RMS margin is: 0.47834185825002423\n"
     ]
    }
   ],
   "source": [
    "#Root mean-squared margin around decision probability 0.5\n",
    "summ=0 \n",
    "corr_inst = match(y_test, Prob_y_pred)\n",
    "for i in range(0, len(corr_inst)): \n",
    "    summ=summ+((corr_inst[i]-0.5)**2) \n",
    "s = summ/len(corr_inst)\n",
    "rms = sqrt(s)\n",
    "print('RMS margin is:',rms)"
   ]
  },
  {
   "cell_type": "code",
   "execution_count": 8,
   "metadata": {},
   "outputs": [
    {
     "name": "stdout",
     "output_type": "stream",
     "text": [
      "Cost:  0.01474840948525159\n"
     ]
    }
   ],
   "source": [
    "#Weighted cost\n",
    "# print(cm_log)\n",
    "TN = cm_log[0, 0]\n",
    "FP = cm_log[0, 1]\n",
    "FN = cm_log[1, 0]\n",
    "TP = cm_log[1, 1]\n",
    "\n",
    "c_sum = 0\n",
    "cost_log = 0\n",
    "c_sum = 0*(TN+TP) + 1*(FP) + 100*(FN)\n",
    "cost_log = (1/6916)*c_sum\n",
    "print('Cost: ', cost_log)"
   ]
  },
  {
   "cell_type": "markdown",
   "metadata": {},
   "source": [
    "# KNN CLASSIFIER"
   ]
  },
  {
   "cell_type": "code",
   "execution_count": 9,
   "metadata": {},
   "outputs": [
    {
     "name": "stdout",
     "output_type": "stream",
     "text": [
      "\n",
      "Accuracy for neighbours 1:  98.23321554770318\n",
      "Misclassification for neighbours 1: 1.7667844522968212\n",
      "Confusion matrix:\n",
      "  [[212   4]\n",
      " [  1  66]]\n",
      "Cost:  0.015037593984962405\n",
      "\n",
      "Accuracy for neighbours 2:  97.52650176678446\n",
      "Misclassification for neighbours 2: 2.473498233215543\n",
      "Confusion matrix:\n",
      "  [[214   2]\n",
      " [  5  62]]\n",
      "Cost:  0.07258530942741469\n",
      "\n",
      "Accuracy for neighbours 3:  98.58657243816255\n",
      "Misclassification for neighbours 3: 1.4134275618374548\n",
      "Confusion matrix:\n",
      "  [[212   4]\n",
      " [  0  67]]\n",
      "Cost:  0.000578368999421631\n",
      "\n",
      "Accuracy for neighbours 4:  98.23321554770318\n",
      "Misclassification for neighbours 4: 1.7667844522968212\n",
      "Confusion matrix:\n",
      "  [[213   3]\n",
      " [  2  65]]\n",
      "Cost:  0.029352226720647773\n",
      "\n",
      "Accuracy for neighbours 5:  98.23321554770318\n",
      "Misclassification for neighbours 5: 1.7667844522968212\n",
      "Confusion matrix:\n",
      "  [[212   4]\n",
      " [  1  66]]\n",
      "Cost:  0.015037593984962405\n",
      "\n",
      "Accuracy for neighbours 6:  98.93992932862191\n",
      "Misclassification for neighbours 6: 1.0600706713780883\n",
      "Confusion matrix:\n",
      "  [[214   2]\n",
      " [  1  66]]\n",
      "Cost:  0.01474840948525159\n",
      "\n",
      "Accuracy for neighbours 7:  98.58657243816255\n",
      "Misclassification for neighbours 7: 1.4134275618374548\n",
      "Confusion matrix:\n",
      "  [[213   3]\n",
      " [  1  66]]\n",
      "Cost:  0.014893001735106997\n",
      "\n",
      "Accuracy for neighbours 8:  98.93992932862191\n",
      "Misclassification for neighbours 8: 1.0600706713780883\n",
      "Confusion matrix:\n",
      "  [[214   2]\n",
      " [  1  66]]\n",
      "Cost:  0.01474840948525159\n",
      "\n",
      "Accuracy for neighbours 9:  98.93992932862191\n",
      "Misclassification for neighbours 9: 1.0600706713780883\n",
      "Confusion matrix:\n",
      "  [[214   2]\n",
      " [  1  66]]\n",
      "Cost:  0.01474840948525159\n",
      "\n",
      "Accuracy for neighbours 10:  98.93992932862191\n",
      "Misclassification for neighbours 10: 1.0600706713780883\n",
      "Confusion matrix:\n",
      "  [[214   2]\n",
      " [  1  66]]\n",
      "Cost:  0.01474840948525159\n"
     ]
    }
   ],
   "source": [
    "from sklearn.neighbors import KNeighborsClassifier as kNN\n",
    "from sklearn.metrics import accuracy_score\n",
    "accuracy = []\n",
    "mis_class = []\n",
    "acc=0\n",
    "for k in range(1,11):\n",
    "    knn_clf = kNN(n_neighbors=k)\n",
    "    knn_clf.fit(X_train, y_train)\n",
    "    y_pred = []\n",
    "    y_pred = knn_clf.predict(X_test)\n",
    "    acc = accuracy_score(y_test, y_pred)\n",
    "    accuracy.append(accuracy_score(y_test, y_pred))\n",
    "    mis_cls = 1 - accuracy_score(y_test, y_pred)\n",
    "    print(f\"\\nAccuracy for neighbours {k}: \", acc*100)\n",
    "    print(f\"Misclassification for neighbours {k}:\", mis_cls*100)\n",
    "    mis_class.append(1 - accuracy_score(y_test, y_pred))\n",
    "    cm_knn = confusion_matrix(y_test, y_pred)\n",
    "    print('Confusion matrix:\\n ', cm_knn)\n",
    "    TN = cm_knn[0, 0]\n",
    "    FP = cm_knn[0, 1]\n",
    "    FN = cm_knn[1, 0]\n",
    "    TP = cm_knn[1, 1]\n",
    "    \n",
    "    c_sum = 0\n",
    "    cost_knn = 0\n",
    "    c_sum = 0*(TN+TP) + 1*(FP) + 100*(FN)\n",
    "    cost_knn = (1/6916)*c_sum\n",
    "    print('Cost: ', cost_knn)\n",
    "# evaluate accuracy\n",
    "# print(accuracy)\n",
    "# print(mis_class)"
   ]
  },
  {
   "cell_type": "code",
   "execution_count": 10,
   "metadata": {},
   "outputs": [
    {
     "data": {
      "image/png": "[encoded data removed]",
      "text/plain": [
       "<Figure size 432x288 with 1 Axes>"
      ]
     },
     "metadata": {
      "needs_background": "light"
     },
     "output_type": "display_data"
    }
   ],
   "source": [
    "# Prepare the data\n",
    "x = np.linspace(1, 10, 10)\n",
    "# x.shape\n",
    "plt.plot(x, mis_class)\n",
    "# plt.plot(x, train, label='Train')\n",
    "plt.ylabel('Misclassification rate')\n",
    "plt.xlabel('Max Tree Depth')\n",
    "# plt.plot(x)\n",
    "# plt.legend()\n",
    "plt.show()"
   ]
  },
  {
   "cell_type": "markdown",
   "metadata": {},
   "source": [
    "# Linear Discriminant Analysis(LDA)"
   ]
  },
  {
   "cell_type": "code",
   "execution_count": 11,
   "metadata": {},
   "outputs": [
    {
     "name": "stdout",
     "output_type": "stream",
     "text": [
      "Accuracy:  98.23321554770318\n",
      "Misclassification rate in %: 1.7667844522968212\n",
      "Confusion matrix:\n",
      "  [[215   1]\n",
      " [  4  63]]\n"
     ]
    }
   ],
   "source": [
    "from sklearn.discriminant_analysis import LinearDiscriminantAnalysis\n",
    "\n",
    "y_pred = []\n",
    "LDA = LinearDiscriminantAnalysis()\n",
    "lda_clf = LDA.fit(X_train, y_train)\n",
    "y_pred = lda_clf.predict(X_test)\n",
    "cm_lda = confusion_matrix(y_test,y_pred)\n",
    "print('Accuracy: ', (accuracy_score(y_test,y_pred))*100)\n",
    "mc = (1-accuracy_score(y_test,y_pred))\n",
    "print('Misclassification rate in %:',mc*100)\n",
    "print('Confusion matrix:\\n ', cm_lda)"
   ]
  },
  {
   "cell_type": "code",
   "execution_count": 12,
   "metadata": {},
   "outputs": [
    {
     "name": "stdout",
     "output_type": "stream",
     "text": [
      "[[215   1]\n",
      " [  4  63]]\n",
      "Cost:  0.0579814921920185\n"
     ]
    }
   ],
   "source": [
    "#Weighted cost\n",
    "print(cm_lda)\n",
    "TN = cm_lda[0, 0]\n",
    "FP = cm_lda[0, 1]\n",
    "FN = cm_lda[1, 0]\n",
    "TP = cm_lda[1, 1]\n",
    "# TN,FP,FN,TP\n",
    "\n",
    "c_sum = 0\n",
    "cost_lda = 0\n",
    "c_sum = 0*(TN+TP) + 1*(FP) + 100*(FN)\n",
    "cost_lda = (1/6916)*c_sum\n",
    "print('Cost: ', cost_lda)"
   ]
  },
  {
   "cell_type": "markdown",
   "metadata": {},
   "source": [
    "# SVM Classifier"
   ]
  },
  {
   "cell_type": "markdown",
   "metadata": {},
   "source": [
    "SVM 'linear' kernel"
   ]
  },
  {
   "cell_type": "code",
   "execution_count": 13,
   "metadata": {},
   "outputs": [
    {
     "name": "stdout",
     "output_type": "stream",
     "text": [
      "Accuracy: 98.58657243816255\n",
      "Misclassification rate: 1.4134275618374548\n"
     ]
    }
   ],
   "source": [
    "from sklearn import svm\n",
    "# y_pred = []\n",
    "svm_clf_linear = svm.SVC(kernel='linear', probability = True, random_state=42) # Linear Kernel\n",
    "\n",
    "#Train the model using the training sets\n",
    "svm_clf_linear.fit(X_train, y_train)\n",
    "y_pred = []\n",
    "#Predict the response for test dataset\n",
    "y_pred = svm_clf_linear.predict(X_test)\n",
    "\n",
    "print(\"Accuracy:\",(accuracy_score(y_test, y_pred))*100)\n",
    "print(\"Misclassification rate:\",(1- accuracy_score(y_test, y_pred))*100)\n",
    "cm_linear = confusion_matrix(y_test,y_pred)"
   ]
  },
  {
   "cell_type": "code",
   "execution_count": 14,
   "metadata": {},
   "outputs": [],
   "source": [
    "Prob_y_pred = []\n",
    "Prob_y_pred = svm_clf_linear.predict_proba(X_test)"
   ]
  },
  {
   "cell_type": "code",
   "execution_count": 15,
   "metadata": {},
   "outputs": [],
   "source": [
    "corr_inst = []\n",
    "def matched(y_test, Prod_y_pred):\n",
    "    \n",
    "    for i in range(len(y_test)):\n",
    "        if y_pred[i] == y_test[i]:\n",
    "            corr_inst.append(np.max(Prob_y_pred[i]))\n",
    "    return corr_inst"
   ]
  },
  {
   "cell_type": "code",
   "execution_count": 16,
   "metadata": {},
   "outputs": [
    {
     "name": "stdout",
     "output_type": "stream",
     "text": [
      "RMS margin is: 0.46123407546580064\n"
     ]
    }
   ],
   "source": [
    "corr_inst = matched(y_test, Prob_y_pred)\n",
    "#Root mean-squared margin around decision probability 0.5\n",
    "summ=0\n",
    "rms = 0\n",
    "for i in range(0, len(corr_inst)): \n",
    "    summ=summ+((corr_inst[i]-0.5)**2) \n",
    "s = summ/len(corr_inst)\n",
    "rms = sqrt(s)\n",
    "print('RMS margin is:',rms)"
   ]
  },
  {
   "cell_type": "code",
   "execution_count": 17,
   "metadata": {},
   "outputs": [
    {
     "name": "stdout",
     "output_type": "stream",
     "text": [
      "Confusion matrix:\n",
      "  [[213   3]\n",
      " [  1  66]]\n",
      "Cost:  0.014893001735106997\n"
     ]
    }
   ],
   "source": [
    "#Weighted cost\n",
    "print('Confusion matrix:\\n ', cm_linear)\n",
    "TN = cm_linear[0, 0]\n",
    "FP = cm_linear[0, 1]\n",
    "FN = cm_linear[1, 0]\n",
    "TP = cm_linear[1, 1]\n",
    "TN,FP,FN,TP\n",
    "\n",
    "# cost0 = 212 + 56\n",
    "# cost1 = 4 #(FP*1)\n",
    "# cost100 = 11  #(FN*100)\n",
    "\n",
    "c_sum = 0\n",
    "cost_linear = 0\n",
    "c_sum = 0*(TN+TP) + 1*(FP) + 100*(FN)\n",
    "cost_linear = (1/6916)*c_sum\n",
    "print('Cost: ', cost_linear)"
   ]
  },
  {
   "cell_type": "markdown",
   "metadata": {},
   "source": [
    "SVM 'poly' kernel"
   ]
  },
  {
   "cell_type": "code",
   "execution_count": 18,
   "metadata": {},
   "outputs": [
    {
     "name": "stdout",
     "output_type": "stream",
     "text": [
      "\n",
      "Accuracy with 2 degrees: 98.93992932862191\n",
      "Misclassification rate with 2 degrees: 1.0600706713780883\n",
      "RMS margin is: 0.4619060440032451\n",
      "[[214   2]\n",
      " [  1  66]]\n",
      "Cost:  0.01474840948525159\n",
      "\n",
      "Accuracy with 3 degrees: 98.93992932862191\n",
      "Misclassification rate with 3 degrees: 1.0600706713780883\n",
      "RMS margin is: 0.4554624119757552\n",
      "[[215   1]\n",
      " [  2  65]]\n",
      "Cost:  0.029063042220936957\n",
      "\n",
      "Accuracy with 4 degrees: 96.46643109540636\n",
      "Misclassification rate with 4 degrees: 3.5335689045936425\n",
      "RMS margin is: 0.44819685785028984\n",
      "[[213   3]\n",
      " [  7  60]]\n",
      "Cost:  0.10164835164835165\n",
      "\n",
      "Accuracy with 5 degrees: 96.46643109540636\n",
      "Misclassification rate with 5 degrees: 3.5335689045936425\n",
      "RMS margin is: 0.43897664124737296\n",
      "[[213   3]\n",
      " [  7  60]]\n",
      "Cost:  0.10164835164835165\n"
     ]
    }
   ],
   "source": [
    "degree = [2,3,4,5]\n",
    "for k in degree: \n",
    "    #Create a svm Classifier\n",
    "    clf_poly = svm.SVC(kernel='poly', degree=k, probability=True, random_state=42) # polynomial Kernel\n",
    "\n",
    "    #Train the model using the training sets\n",
    "    clf_poly.fit(X_train, y_train)\n",
    "\n",
    "    #Predict the response for test dataset\n",
    "    y_pred = []\n",
    "    y_pred = clf_poly.predict(X_test)\n",
    "\n",
    "    print(f\"\\nAccuracy with {k} degrees:\",(accuracy_score(y_test, y_pred))*100)\n",
    "    print(f\"Misclassification rate with {k} degrees:\",(1- accuracy_score(y_test, y_pred))*100)\n",
    "    cm_poly = confusion_matrix(y_test,y_pred)\n",
    "    Prob_y_pred = []\n",
    "    Prob_y_pred = clf_poly.predict_proba(X_test)\n",
    "    corr_inst = matched(y_test, Prob_y_pred)\n",
    "    summ=0\n",
    "    rms = 0\n",
    "    for i in range(0, len(corr_inst)): \n",
    "        summ=summ+((corr_inst[i]-0.5)**2) \n",
    "    s = summ/len(corr_inst)\n",
    "    rms = sqrt(s)\n",
    "    print('RMS margin is:',rms)\n",
    "    print(cm_poly)\n",
    "    TN = cm_poly[0, 0]\n",
    "    FP = cm_poly[0, 1]\n",
    "    FN = cm_poly[1, 0]\n",
    "    TP = cm_poly[1, 1]\n",
    "#     TN,FP,FN,TP\n",
    "    c_sum = 0\n",
    "    cost_poly = 0\n",
    "    c_sum = 0*(TN+TP) + 1*(FP) + 100*(FN)\n",
    "    cost_poly = (1/6916)*c_sum\n",
    "    print('Cost: ', cost_poly)"
   ]
  },
  {
   "cell_type": "markdown",
   "metadata": {},
   "source": [
    "SVM 'rbf' kernel"
   ]
  },
  {
   "cell_type": "code",
   "execution_count": 19,
   "metadata": {},
   "outputs": [
    {
     "name": "stdout",
     "output_type": "stream",
     "text": [
      "Accuracy: 98.23321554770318\n",
      "Misclassification rate: 1.7667844522968212\n"
     ]
    }
   ],
   "source": [
    "#Create a svm Classifier\n",
    "clf_rbf = svm.SVC(kernel='rbf', probability = True, random_state=42) # rbf Kernel\n",
    "\n",
    "#Train the model using the training sets\n",
    "clf_rbf.fit(X_train, y_train)\n",
    "\n",
    "#Predict the response for test dataset\n",
    "y_pred = []\n",
    "y_pred = clf_rbf.predict(X_test)\n",
    "\n",
    "print(\"Accuracy:\", (accuracy_score(y_test, y_pred))*100)\n",
    "print(\"Misclassification rate:\",(1- accuracy_score(y_test, y_pred))*100)\n",
    "cm_rbf = confusion_matrix(y_test,y_pred)"
   ]
  },
  {
   "cell_type": "code",
   "execution_count": 20,
   "metadata": {},
   "outputs": [
    {
     "name": "stdout",
     "output_type": "stream",
     "text": [
      "RMS margin is: 0.43263544346088184\n"
     ]
    }
   ],
   "source": [
    "corr_inst = matched(y_test, Prob_y_pred)\n",
    "#Root mean-squared margin around decision probability 0.5\n",
    "summ=0\n",
    "rms = 0\n",
    "for i in range(0, len(corr_inst)): \n",
    "    summ=summ+((corr_inst[i]-0.5)**2) \n",
    "s = summ/len(corr_inst)\n",
    "rms = sqrt(s)\n",
    "print('RMS margin is:',rms)"
   ]
  },
  {
   "cell_type": "code",
   "execution_count": 21,
   "metadata": {},
   "outputs": [
    {
     "name": "stdout",
     "output_type": "stream",
     "text": [
      "Confusion matrix:\n",
      "  [[212   4]\n",
      " [  1  66]]\n",
      "Cost:  0.015037593984962405\n"
     ]
    }
   ],
   "source": [
    "#Weighted cost\n",
    "print('Confusion matrix:\\n ', cm_rbf)\n",
    "TN = cm_rbf[0, 0]\n",
    "FP = cm_rbf[0, 1]\n",
    "FN = cm_rbf[1, 0]\n",
    "TP = cm_rbf[1, 1]\n",
    "TN,FP,FN,TP\n",
    "\n",
    "c_sum = 0\n",
    "cost_rbf = 0\n",
    "c_sum = 0*(TN+TP) + 1*(FP) + 100*(FN)\n",
    "cost_rbf = (1/6916)*c_sum\n",
    "print('Cost: ', cost_rbf)"
   ]
  },
  {
   "cell_type": "markdown",
   "metadata": {},
   "source": [
    "SVM 'sigmoid' kernel"
   ]
  },
  {
   "cell_type": "code",
   "execution_count": 22,
   "metadata": {},
   "outputs": [
    {
     "name": "stdout",
     "output_type": "stream",
     "text": [
      "Accuracy: 16.25441696113074\n",
      "Misclassification rate: 83.74558303886926\n"
     ]
    }
   ],
   "source": [
    "#Create a svm Classifier\n",
    "y_pred = []\n",
    "clf_sig = svm.SVC(kernel='sigmoid', probability = True, random_state=42) # sigmoid Kernel\n",
    "\n",
    "#Train the model using the training sets\n",
    "clf_sig.fit(X_train, y_train)\n",
    "\n",
    "#Predict the response for test dataset\n",
    "y_pred = []\n",
    "y_pred = clf_sig.predict(X_test)\n",
    "\n",
    "print(\"Accuracy:\", (accuracy_score(y_test, y_pred))*100)\n",
    "print(\"Misclassification rate:\",(1- accuracy_score(y_test, y_pred))*100)\n",
    "cm_sigmoid = confusion_matrix(y_test,y_pred)"
   ]
  },
  {
   "cell_type": "code",
   "execution_count": 23,
   "metadata": {},
   "outputs": [
    {
     "name": "stdout",
     "output_type": "stream",
     "text": [
      "RMS margin is: 0.4311013821647495\n"
     ]
    }
   ],
   "source": [
    "corr_inst = matched(y_test, Prob_y_pred)\n",
    "# print(len(corr_inst))\n",
    "#Root mean-squared margin around decision probability 0.5\n",
    "summ=0\n",
    "rms = 0\n",
    "for i in range(0, len(corr_inst)): \n",
    "    summ=summ+((corr_inst[i]-0.5)**2) \n",
    "s = summ/len(corr_inst)\n",
    "rms = sqrt(s)\n",
    "print('RMS margin is:',rms)"
   ]
  },
  {
   "cell_type": "code",
   "execution_count": 24,
   "metadata": {},
   "outputs": [
    {
     "name": "stdout",
     "output_type": "stream",
     "text": [
      "Confusion matrix:\n",
      "  [[ 46 170]\n",
      " [ 67   0]]\n",
      "Cost:  0.9933487565066512\n"
     ]
    }
   ],
   "source": [
    "#Weighted cost\n",
    "print('Confusion matrix:\\n ', cm_sigmoid)\n",
    "TN = cm_sigmoid[0, 0]\n",
    "FP = cm_sigmoid[0, 1]\n",
    "FN = cm_sigmoid[1, 0]\n",
    "TP = cm_sigmoid[1, 1]\n",
    "TN,FP,FN,TP\n",
    "\n",
    "c_sum = 0\n",
    "cost_sigmoid = 0\n",
    "c_sum = 0*(TN+TP) + 1*(FP) + 100*(FN)\n",
    "cost_sigmoid = (1/6916)*c_sum\n",
    "print('Cost: ', cost_sigmoid)"
   ]
  },
  {
   "cell_type": "markdown",
   "metadata": {},
   "source": [
    "# Decision Tree Classifier"
   ]
  },
  {
   "cell_type": "code",
   "execution_count": 25,
   "metadata": {},
   "outputs": [
    {
     "name": "stdout",
     "output_type": "stream",
     "text": [
      "\n",
      "Accuracy for depth 3: 96.81978798586573\n",
      "Confusion matrix for 3 depth:\n",
      " [[213   3]\n",
      " [  6  61]]\n",
      "Misclassification rate:  3.180212014134276\n",
      "Cost:  0.08718912666281087\n",
      "\n",
      "Accuracy for depth 4: 97.52650176678446\n",
      "Confusion matrix for 4 depth:\n",
      " [[213   3]\n",
      " [  4  63]]\n",
      "Misclassification rate:  2.473498233215543\n",
      "Cost:  0.05827067669172932\n",
      "\n",
      "Accuracy for depth 5: 94.34628975265018\n",
      "Confusion matrix for 5 depth:\n",
      " [[211   5]\n",
      " [ 11  56]]\n",
      "Misclassification rate:  5.653710247349819\n",
      "Cost:  0.15977443609022554\n",
      "\n",
      "Accuracy for depth 6: 94.69964664310953\n",
      "Confusion matrix for 6 depth:\n",
      " [[211   5]\n",
      " [ 10  57]]\n",
      "Misclassification rate:  5.300353356890463\n",
      "Cost:  0.1453152111046848\n",
      "\n",
      "Accuracy for depth 7: 94.69964664310953\n",
      "Confusion matrix for 7 depth:\n",
      " [[211   5]\n",
      " [ 10  57]]\n",
      "Misclassification rate:  5.300353356890463\n",
      "Cost:  0.1453152111046848\n",
      "\n",
      "Accuracy for depth 8: 94.69964664310953\n",
      "Confusion matrix for 8 depth:\n",
      " [[211   5]\n",
      " [ 10  57]]\n",
      "Misclassification rate:  5.300353356890463\n",
      "Cost:  0.1453152111046848\n",
      "\n",
      "Accuracy for depth 9: 94.69964664310953\n",
      "Confusion matrix for 9 depth:\n",
      " [[211   5]\n",
      " [ 10  57]]\n",
      "Misclassification rate:  5.300353356890463\n",
      "Cost:  0.1453152111046848\n",
      "\n",
      "Accuracy for depth 10: 94.69964664310953\n",
      "Confusion matrix for 10 depth:\n",
      " [[211   5]\n",
      " [ 10  57]]\n",
      "Misclassification rate:  5.300353356890463\n",
      "Cost:  0.1453152111046848\n"
     ]
    }
   ],
   "source": [
    "from sklearn.tree import DecisionTreeClassifier # Import Decision Tree Classifier\n",
    "\n",
    "depth = [3, 4, 5, 6, 7, 8, 9, 10]\n",
    "mc = []\n",
    "# depth = [5]\n",
    "for d in depth: \n",
    "    # Create Decision Tree classifer object\n",
    "    decision_tree_clf = DecisionTreeClassifier(max_depth=d, random_state=42)\n",
    "\n",
    "    # Train Decision Tree Classifer\n",
    "    decision_tree_clf = decision_tree_clf.fit(X_train,y_train)\n",
    "\n",
    "    #Predict the response for test dataset\n",
    "    y_pred = []\n",
    "    y_pred = decision_tree_clf.predict(X_test)\n",
    "\n",
    "    print(f\"\\nAccuracy for depth {d}:\", (accuracy_score(y_test, y_pred))*100)\n",
    "    cm_dec = confusion_matrix(y_test, y_pred)\n",
    "    print(f'Confusion matrix for {d} depth:\\n',cm_dec)\n",
    "    mis_class = 1 - accuracy_score(y_test, y_pred)\n",
    "    print('Misclassification rate: ', mis_class*100)\n",
    "    mc.append(mis_class)\n",
    "#     print(cm_poly)\n",
    "    TN = cm_dec[0, 0]\n",
    "    FP = cm_dec[0, 1]\n",
    "    FN = cm_dec[1, 0]\n",
    "    TP = cm_dec[1, 1]\n",
    "#     TN,FP,FN,TP\n",
    "    c_sum = 0\n",
    "    cost_dec = 0\n",
    "    c_sum = 0*(TN+TP) + 1*(FP) + 100*(FN)\n",
    "    cost_dec = (1/6916)*c_sum\n",
    "    print('Cost: ', cost_dec)"
   ]
  },
  {
   "cell_type": "code",
   "execution_count": 26,
   "metadata": {},
   "outputs": [
    {
     "data": {
      "image/png": "[encoded data removed]",
      "text/plain": [
       "<Figure size 432x288 with 1 Axes>"
      ]
     },
     "metadata": {
      "needs_background": "light"
     },
     "output_type": "display_data"
    }
   ],
   "source": [
    "# Prepare the data\n",
    "x = np.linspace(3, 10, 8)\n",
    "# x.shape\n",
    "plt.plot(x, mc)\n",
    "# plt.plot(x, train, label='Train')\n",
    "plt.ylabel('Misclassification rate')\n",
    "plt.xlabel('Max Tree Depth')\n",
    "# plt.plot(x)\n",
    "# plt.legend()\n",
    "plt.show()"
   ]
  },
  {
   "cell_type": "code",
   "execution_count": 27,
   "metadata": {},
   "outputs": [],
   "source": [
    "#Decision tree depth = 5\n",
    "from sklearn import tree\n",
    "import graphviz \n",
    "decision_tree = DecisionTreeClassifier(max_depth=d)\n",
    "decision_tree = decision_tree.fit(X_train,y_train)\n",
    "dot_data = tree.export_graphviz(decision_tree, out_file=None) \n",
    "graph_data = graphviz.Source(dot_data) \n",
    "# graph_data"
   ]
  },
  {
   "cell_type": "markdown",
   "metadata": {},
   "source": [
    "# AdaBoost Classifier"
   ]
  },
  {
   "cell_type": "code",
   "execution_count": 28,
   "metadata": {},
   "outputs": [],
   "source": [
    "from sklearn.ensemble import AdaBoostClassifier\n",
    "from sklearn.tree import DecisionTreeClassifier\n",
    "\n",
    "from sklearn.metrics import confusion_matrix\n",
    "from sklearn.preprocessing import LabelEncoder"
   ]
  },
  {
   "cell_type": "code",
   "execution_count": 29,
   "metadata": {},
   "outputs": [
    {
     "name": "stdout",
     "output_type": "stream",
     "text": [
      "\n",
      "Weak learners:  100\n",
      "Accuracy: 96.113074204947\n",
      "Misclassification rate: 3.886925795053009\n",
      "Confusion matrix:\n",
      "  [[212   4]\n",
      " [  7  60]]\n",
      "Cost:  0.10179294389820705\n",
      "\n",
      "Weak learners:  200\n",
      "Accuracy: 96.113074204947\n",
      "Misclassification rate: 3.886925795053009\n",
      "Confusion matrix:\n",
      "  [[212   4]\n",
      " [  7  60]]\n",
      "Cost:  0.10179294389820705\n",
      "\n",
      "Weak learners:  300\n",
      "Accuracy: 95.0530035335689\n",
      "Misclassification rate: 4.946996466431097\n",
      "Confusion matrix:\n",
      "  [[212   4]\n",
      " [ 10  57]]\n",
      "Cost:  0.14517061885482938\n",
      "\n",
      "Weak learners:  400\n",
      "Accuracy: 96.113074204947\n",
      "Misclassification rate: 3.886925795053009\n",
      "Confusion matrix:\n",
      "  [[212   4]\n",
      " [  7  60]]\n",
      "Cost:  0.10179294389820705\n",
      "\n",
      "Weak learners:  500\n",
      "Accuracy: 95.75971731448763\n",
      "Misclassification rate: 4.240282685512364\n",
      "Confusion matrix:\n",
      "  [[212   4]\n",
      " [  8  59]]\n",
      "Cost:  0.11625216888374783\n"
     ]
    }
   ],
   "source": [
    "depth = [100,200,300,400,500]\n",
    "predictions = []\n",
    "for i in depth:\n",
    "    ada_classifier = AdaBoostClassifier(n_estimators=i, random_state=42)\n",
    "    ada_classifier.fit(X_train, y_train)\n",
    "    print('\\nWeak learners: ', i)\n",
    "    predictions = []\n",
    "    predictions = ada_classifier.predict(X_test)\n",
    "    cm_ada = confusion_matrix(y_test, predictions)\n",
    "    print(\"Accuracy:\", (accuracy_score(y_test, predictions))*100)\n",
    "    print(\"Misclassification rate:\",(1- accuracy_score(y_test, predictions))*100)\n",
    "    print('Confusion matrix:\\n ', cm_ada)\n",
    "    TN = cm_ada[0, 0]\n",
    "    FP = cm_ada[0, 1]\n",
    "    FN = cm_ada[1, 0]\n",
    "    TP = cm_ada[1, 1]\n",
    "#     TN,FP,FN,TP\n",
    "    c_sum = 0\n",
    "    cost_ada = 0\n",
    "    c_sum = 0*(TN+TP) + 1*(FP) + 100*(FN)\n",
    "    cost_ada = (1/6916)*c_sum\n",
    "    print('Cost: ', cost_ada)"
   ]
  },
  {
   "cell_type": "markdown",
   "metadata": {},
   "source": [
    "# XGBoost Classifier"
   ]
  },
  {
   "cell_type": "code",
   "execution_count": 30,
   "metadata": {},
   "outputs": [],
   "source": [
    "import xgboost as xgb"
   ]
  },
  {
   "cell_type": "code",
   "execution_count": 31,
   "metadata": {},
   "outputs": [
    {
     "name": "stdout",
     "output_type": "stream",
     "text": [
      "\n",
      "Weak learners:  100\n",
      "Accuracy: 96.81978798586573\n",
      "Misclassification rate: 3.180212014134276\n",
      "Confusion matrix:\n",
      "  [[213   3]\n",
      " [  6  61]]\n",
      "Cost:  0.08718912666281087\n",
      "\n",
      "Weak learners:  200\n",
      "Accuracy: 97.87985865724382\n",
      "Misclassification rate: 2.1201413427561877\n",
      "Confusion matrix:\n",
      "  [[212   4]\n",
      " [  2  65]]\n",
      "Cost:  0.02949681897050318\n",
      "\n",
      "Weak learners:  300\n",
      "Accuracy: 98.23321554770318\n",
      "Misclassification rate: 1.7667844522968212\n",
      "Confusion matrix:\n",
      "  [[213   3]\n",
      " [  2  65]]\n",
      "Cost:  0.029352226720647773\n",
      "\n",
      "Weak learners:  400\n",
      "Accuracy: 98.23321554770318\n",
      "Misclassification rate: 1.7667844522968212\n",
      "Confusion matrix:\n",
      "  [[213   3]\n",
      " [  2  65]]\n",
      "Cost:  0.029352226720647773\n",
      "\n",
      "Weak learners:  500\n",
      "Accuracy: 97.87985865724382\n",
      "Misclassification rate: 2.1201413427561877\n",
      "Confusion matrix:\n",
      "  [[213   3]\n",
      " [  3  64]]\n",
      "Cost:  0.043811451706188546\n"
     ]
    }
   ],
   "source": [
    "num = [100,200,300,400,500]\n",
    "for i in num:\n",
    "    clf = xgb.XGBClassifier(n_estimators=i, learning_rate=0.01, random_state=42)\n",
    "    clf.fit(X_train, y_train)\n",
    "    predictions = []\n",
    "    predictions = clf.predict(X_test)\n",
    "    print('\\nWeak learners: ', i)\n",
    "    cm_xgb = confusion_matrix(y_test, predictions)\n",
    "    print(\"Accuracy:\", (accuracy_score(y_test, predictions))*100)\n",
    "    mc = 1- accuracy_score(y_test, predictions)\n",
    "    print(\"Misclassification rate:\", mc*100)\n",
    "    print('Confusion matrix:\\n ', cm_xgb)\n",
    "    TN = cm_xgb[0, 0]\n",
    "    FP = cm_xgb[0, 1]\n",
    "    FN = cm_xgb[1, 0]\n",
    "    TP = cm_xgb[1, 1]\n",
    "    c_sum = 0\n",
    "    cost_xgb = 0\n",
    "    c_sum = 0*(TN+TP) + 1*(FP) + 100*(FN)\n",
    "    cost_xgb = (1/6916)*c_sum\n",
    "    print('Cost: ', cost_xgb)"
   ]
  },
  {
   "cell_type": "markdown",
   "metadata": {},
   "source": [
    "# Random Forest Classifier"
   ]
  },
  {
   "cell_type": "code",
   "execution_count": 32,
   "metadata": {},
   "outputs": [
    {
     "name": "stdout",
     "output_type": "stream",
     "text": [
      "\n",
      "Weak learners : 100\n",
      "Accuracy: 98.93992932862191\n",
      "Misclassification rate: 1.0600706713780883\n",
      "Confusion matrix:\n",
      "  [[214   2]\n",
      " [  1  66]]\n",
      "Cost:  0.01474840948525159\n",
      "\n",
      "Weak learners : 200\n",
      "Accuracy: 98.58657243816255\n",
      "Misclassification rate: 1.4134275618374548\n",
      "Confusion matrix:\n",
      "  [[213   3]\n",
      " [  1  66]]\n",
      "Cost:  0.014893001735106997\n",
      "\n",
      "Weak learners : 300\n",
      "Accuracy: 98.58657243816255\n",
      "Misclassification rate: 1.4134275618374548\n",
      "Confusion matrix:\n",
      "  [[213   3]\n",
      " [  1  66]]\n",
      "Cost:  0.014893001735106997\n",
      "\n",
      "Weak learners : 400\n",
      "Accuracy: 98.58657243816255\n",
      "Misclassification rate: 1.4134275618374548\n",
      "Confusion matrix:\n",
      "  [[213   3]\n",
      " [  1  66]]\n",
      "Cost:  0.014893001735106997\n",
      "\n",
      "Weak learners : 500\n",
      "Accuracy: 98.23321554770318\n",
      "Misclassification rate: 1.7667844522968212\n",
      "Confusion matrix:\n",
      "  [[213   3]\n",
      " [  2  65]]\n",
      "Cost:  0.029352226720647773\n"
     ]
    }
   ],
   "source": [
    "from sklearn.ensemble import RandomForestClassifier\n",
    "mc = []\n",
    "num = [100,200,300,400,500]\n",
    "y_pred = []\n",
    "for i in num:\n",
    "    rfc = RandomForestClassifier(n_estimators = i, random_state=42)\n",
    "    rfc = rfc.fit(X_train,y_train)\n",
    "    y_pred = rfc.predict(X_test)\n",
    "    print('\\nWeak learners :', i)\n",
    "    cm_rand = confusion_matrix(y_test,y_pred)\n",
    "#     print('confusion matrix:\\n',cm)\n",
    "    mis_class = 1 - accuracy_score(y_test, y_pred)\n",
    "    print(\"Accuracy:\", (accuracy_score(y_test, y_pred))*100)\n",
    "    print(\"Misclassification rate:\",mis_class*100)\n",
    "#     print(\"Misclassification rate:\", mc)\n",
    "    print('Confusion matrix:\\n ', cm_rand)\n",
    "    TN = cm_rand[0, 0]\n",
    "    FP = cm_rand[0, 1]\n",
    "    FN = cm_rand[1, 0]\n",
    "    TP = cm_rand[1, 1]\n",
    "#     TN,FP,FN,TP\n",
    "    c_sum = 0\n",
    "    cost_rand = 0\n",
    "    c_sum = 0*(TN+TP) + 1*(FP) + 100*(FN)\n",
    "    cost_rand = (1/6916)*c_sum\n",
    "    print('Cost: ', cost_rand)"
   ]
  },
  {
   "cell_type": "code",
   "execution_count": null,
   "metadata": {},
   "outputs": [],
   "source": []
  }
 ],
 "metadata": {
  "kernelspec": {
   "display_name": "Python 3",
   "language": "python",
   "name": "python3"
  },
  "language_info": {
   "codemirror_mode": {
    "name": "ipython",
    "version": 3
   },
   "file_extension": ".py",
   "mimetype": "text/x-python",
   "name": "python",
   "nbconvert_exporter": "python",
   "pygments_lexer": "ipython3",
   "version": "3.7.6"
  }
 },
 "nbformat": 4,
 "nbformat_minor": 4
}
