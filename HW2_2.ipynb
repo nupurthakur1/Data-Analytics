{
 "cells": [
  {
   "cell_type": "code",
   "execution_count": 1,
   "metadata": {},
   "outputs": [],
   "source": [
    "import pandas as pd\n",
    "import numpy as np\n",
    "from sklearn.preprocessing import StandardScaler\n",
    "import matplotlib.pyplot as plt\n",
    "from sklearn.decomposition import PCA\n",
    "from sklearn.preprocessing import scale\n",
    "import matplotlib.pyplot as plt\n",
    "from sklearn.cluster import KMeans\n",
    "from sklearn.metrics import silhouette_score, adjusted_rand_score"
   ]
  },
  {
   "cell_type": "code",
   "execution_count": 2,
   "metadata": {},
   "outputs": [
    {
     "data": {
      "text/html": [
       "<div>\n",
       "<style scoped>\n",
       "    .dataframe tbody tr th:only-of-type {\n",
       "        vertical-align: middle;\n",
       "    }\n",
       "\n",
       "    .dataframe tbody tr th {\n",
       "        vertical-align: top;\n",
       "    }\n",
       "\n",
       "    .dataframe thead th {\n",
       "        text-align: right;\n",
       "    }\n",
       "</style>\n",
       "<table border=\"1\" class=\"dataframe\">\n",
       "  <thead>\n",
       "    <tr style=\"text-align: right;\">\n",
       "      <th></th>\n",
       "      <th>0</th>\n",
       "      <th>1</th>\n",
       "      <th>2</th>\n",
       "      <th>3</th>\n",
       "      <th>4</th>\n",
       "    </tr>\n",
       "  </thead>\n",
       "  <tbody>\n",
       "    <tr>\n",
       "      <th>0</th>\n",
       "      <td>5.1</td>\n",
       "      <td>3.5</td>\n",
       "      <td>1.4</td>\n",
       "      <td>0.2</td>\n",
       "      <td>Iris-setosa</td>\n",
       "    </tr>\n",
       "    <tr>\n",
       "      <th>1</th>\n",
       "      <td>4.9</td>\n",
       "      <td>3.0</td>\n",
       "      <td>1.4</td>\n",
       "      <td>0.2</td>\n",
       "      <td>Iris-setosa</td>\n",
       "    </tr>\n",
       "    <tr>\n",
       "      <th>2</th>\n",
       "      <td>4.7</td>\n",
       "      <td>3.2</td>\n",
       "      <td>1.3</td>\n",
       "      <td>0.2</td>\n",
       "      <td>Iris-setosa</td>\n",
       "    </tr>\n",
       "    <tr>\n",
       "      <th>3</th>\n",
       "      <td>4.6</td>\n",
       "      <td>3.1</td>\n",
       "      <td>1.5</td>\n",
       "      <td>0.2</td>\n",
       "      <td>Iris-setosa</td>\n",
       "    </tr>\n",
       "    <tr>\n",
       "      <th>4</th>\n",
       "      <td>5.0</td>\n",
       "      <td>3.6</td>\n",
       "      <td>1.4</td>\n",
       "      <td>0.2</td>\n",
       "      <td>Iris-setosa</td>\n",
       "    </tr>\n",
       "  </tbody>\n",
       "</table>\n",
       "</div>"
      ],
      "text/plain": [
       "     0    1    2    3            4\n",
       "0  5.1  3.5  1.4  0.2  Iris-setosa\n",
       "1  4.9  3.0  1.4  0.2  Iris-setosa\n",
       "2  4.7  3.2  1.3  0.2  Iris-setosa\n",
       "3  4.6  3.1  1.5  0.2  Iris-setosa\n",
       "4  5.0  3.6  1.4  0.2  Iris-setosa"
      ]
     },
     "execution_count": 2,
     "metadata": {},
     "output_type": "execute_result"
    }
   ],
   "source": [
    "df=pd.read_csv('iris.csv')\n",
    "df = pd.read_csv('iris.csv', header = None)\n",
    "df.head()"
   ]
  },
  {
   "cell_type": "code",
   "execution_count": 10,
   "metadata": {},
   "outputs": [
    {
     "data": {
      "text/plain": [
       "0         Iris-setosa\n",
       "1         Iris-setosa\n",
       "2         Iris-setosa\n",
       "3         Iris-setosa\n",
       "4         Iris-setosa\n",
       "            ...      \n",
       "145    Iris-virginica\n",
       "146    Iris-virginica\n",
       "147    Iris-virginica\n",
       "148    Iris-virginica\n",
       "149    Iris-virginica\n",
       "Name: 4, Length: 150, dtype: object"
      ]
     },
     "execution_count": 10,
     "metadata": {},
     "output_type": "execute_result"
    }
   ],
   "source": [
    "#actual class labels\n",
    "df1 = df.drop([4],axis =1)\n",
    "label = df[4]"
   ]
  },
  {
   "cell_type": "code",
   "execution_count": 4,
   "metadata": {},
   "outputs": [],
   "source": [
    "df1_std = StandardScaler().fit_transform(df1)"
   ]
  },
  {
   "cell_type": "code",
   "execution_count": 5,
   "metadata": {},
   "outputs": [
    {
     "name": "stdout",
     "output_type": "stream",
     "text": [
      "No. of components used : 1\n",
      "Silhoutte score is 0.6754183875905303\n",
      "Adjusted random index is 0.8015498244339507\n"
     ]
    }
   ],
   "source": [
    "#Apply PCA with 1 principal component\n",
    "pca1 = PCA(n_components = 1)\n",
    "pc = 0\n",
    "pc = pca1.fit_transform(df1_std)\n",
    "PCA_components = pd.DataFrame(pc)\n",
    "\n",
    "kmeans1 = 0\n",
    "kmeans1 = KMeans(n_clusters=3, random_state=50)\n",
    "kmeans1.fit(PCA_components)\n",
    "score1 = 0\n",
    "score1 = silhouette_score(PCA_components,kmeans1.labels_)\n",
    "print('No. of components used : 1')\n",
    "print('Silhoutte score is', score1)\n",
    "labels = pd.factorize(label)[0]\n",
    "len(kmeans1.labels_)\n",
    "adj_rand_index1 = 0\n",
    "adj_rand_index1 = adjusted_rand_score(labels, kmeans1.labels_)\n",
    "print('Adjusted random index is', adj_rand_index1)"
   ]
  },
  {
   "cell_type": "code",
   "execution_count": 6,
   "metadata": {},
   "outputs": [
    {
     "name": "stdout",
     "output_type": "stream",
     "text": [
      "No. of components used : 2\n",
      "Silhoutte score is 0.5091683341538228\n",
      "Adjusted random index is 0.6201351808870379\n"
     ]
    }
   ],
   "source": [
    "#Apply PCA with 2 principal component\n",
    "pca2 = PCA(n_components = 2)\n",
    "pc = 0\n",
    "pc = pca2.fit_transform(df1_std)\n",
    "PCA_components = pd.DataFrame(pc)\n",
    "\n",
    "kmeans2 = 0\n",
    "kmeans2 = KMeans(n_clusters=3, random_state=50)\n",
    "kmeans2.fit(PCA_components)\n",
    "score2 = 0\n",
    "score2 = silhouette_score(PCA_components,kmeans2.labels_)\n",
    "print('No. of components used : 2')\n",
    "print('Silhoutte score is', score2)\n",
    "labels = pd.factorize(label)[0]\n",
    "len(kmeans2.labels_)\n",
    "adj_rand_index2 = 0\n",
    "adj_rand_index2 = adjusted_rand_score(labels, kmeans2.labels_)\n",
    "print('Adjusted random index is', adj_rand_index2)"
   ]
  },
  {
   "cell_type": "code",
   "execution_count": 7,
   "metadata": {},
   "outputs": [
    {
     "name": "stdout",
     "output_type": "stream",
     "text": [
      "No. of components used : 3\n",
      "Silhoutte score is 0.46928366701283675\n",
      "Adjusted random index is 0.5923326221845838\n"
     ]
    }
   ],
   "source": [
    "#Apply PCA with 3 principal component\n",
    "pca3 = PCA(n_components = 3)\n",
    "pc = 0\n",
    "pc = pca3.fit_transform(df1_std)\n",
    "PCA_components = pd.DataFrame(pc)\n",
    "\n",
    "kmeans3 = 0\n",
    "kmeans3 = KMeans(n_clusters=3, random_state=50)\n",
    "kmeans3.fit(PCA_components)\n",
    "score3 = 0\n",
    "score3 = silhouette_score(PCA_components,kmeans3.labels_)\n",
    "print('No. of components used : 3')\n",
    "print('Silhoutte score is', score3)\n",
    "labels = pd.factorize(label)[0]\n",
    "len(kmeans3.labels_)\n",
    "adj_rand_index3 = 0\n",
    "adj_rand_index3 = adjusted_rand_score(labels, kmeans3.labels_)\n",
    "print('Adjusted random index is', adj_rand_index3)"
   ]
  },
  {
   "cell_type": "code",
   "execution_count": 8,
   "metadata": {},
   "outputs": [
    {
     "name": "stdout",
     "output_type": "stream",
     "text": [
      "No. of components used : 4\n",
      "Silhoutte score is 0.4593779207449665\n",
      "Adjusted random index is 0.6100728505285608\n"
     ]
    }
   ],
   "source": [
    "#Apply PCA with 4 principal component\n",
    "pca4 = PCA(n_components = 4)\n",
    "pc = 0\n",
    "pc = pca4.fit_transform(df1_std)\n",
    "PCA_components = pd.DataFrame(pc)\n",
    "\n",
    "silhouette_coefficients = []\n",
    "kmeans4 = 0\n",
    "kmeans4 = KMeans(n_clusters=3, random_state=50)\n",
    "kmeans4.fit(PCA_components)\n",
    "score4 = 0\n",
    "score4 = silhouette_score(PCA_components,kmeans4.labels_)\n",
    "print('No. of components used : 4')\n",
    "print('Silhoutte score is', score4)\n",
    "labels = pd.factorize(label)[0]\n",
    "len(kmeans4.labels_)\n",
    "adj_rand_index4 = 0\n",
    "adj_rand_index4 = adjusted_rand_score(labels, kmeans4.labels_)\n",
    "print('Adjusted random index is', adj_rand_index4)"
   ]
  },
  {
   "cell_type": "code",
   "execution_count": 9,
   "metadata": {},
   "outputs": [],
   "source": [
    "#Comparing all the above 4 results of silhouette score and adjusted random index based on,\n",
    "\n",
    "#1) Average silhouette score : From the above 4 results of silhouette score, we get the highest score(i.e 0.6754183875905303) \n",
    "# when the number of principal component is 1 and hence we get the best clustering result. \n",
    "# As the number of principal components increase, the score decreases and the clustering gets poor.\n",
    "\n",
    "#2) Adjusted random index : From the above 4 results of  adjusted random index, we get the highest random index when the \n",
    "# number of principal components is 1 and decreases as the number of principal components decrease.\n"
   ]
  }
 ],
 "metadata": {
  "kernelspec": {
   "display_name": "Python 3",
   "language": "python",
   "name": "python3"
  },
  "language_info": {
   "codemirror_mode": {
    "name": "ipython",
    "version": 3
   },
   "file_extension": ".py",
   "mimetype": "text/x-python",
   "name": "python",
   "nbconvert_exporter": "python",
   "pygments_lexer": "ipython3",
   "version": "3.7.6"
  }
 },
 "nbformat": 4,
 "nbformat_minor": 4
}
